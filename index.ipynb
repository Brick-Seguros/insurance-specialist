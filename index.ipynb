{
 "cells": [
  {
   "cell_type": "markdown",
   "metadata": {},
   "source": [
    "## Introduction"
   ]
  },
  {
   "cell_type": "markdown",
   "metadata": {},
   "source": [
    "<img src=\"./assets/agent-definition.jpeg\" alt=\"drawing\" style=\"width:1000px;\"/>\n"
   ]
  },
  {
   "cell_type": "markdown",
   "metadata": {},
   "source": [
    "## Understasnding LLMs"
   ]
  },
  {
   "cell_type": "markdown",
   "metadata": {},
   "source": [
    "### Tokenizers"
   ]
  },
  {
   "cell_type": "markdown",
   "metadata": {},
   "source": [
    "<img src=\"./assets/question-received.jpeg\" alt=\"drawing\" style=\"width:1000px;\"/>\n"
   ]
  },
  {
   "cell_type": "markdown",
   "metadata": {},
   "source": [
    "<img src=\"./assets/tokenizer-schema.jpeg\" alt=\"drawing\" style=\"width:800px;\"/>\n"
   ]
  },
  {
   "cell_type": "markdown",
   "metadata": {},
   "source": [
    "### Embedding Space"
   ]
  },
  {
   "cell_type": "markdown",
   "metadata": {},
   "source": [
    "<img src=\"./assets/ES1.png\" alt=\"drawing\" style=\"width:800px;\"/>\n"
   ]
  },
  {
   "cell_type": "markdown",
   "metadata": {},
   "source": [
    "<img src=\"./assets/ES2.png\" alt=\"drawing\" style=\"width:800px;\"/>"
   ]
  },
  {
   "cell_type": "markdown",
   "metadata": {},
   "source": [
    "### Attention Mechanism"
   ]
  },
  {
   "cell_type": "markdown",
   "metadata": {},
   "source": [
    "<img src=\"./assets/llm-schema.jpeg\" alt=\"drawing\" style=\"width:1000px;\"/>"
   ]
  },
  {
   "cell_type": "markdown",
   "metadata": {},
   "source": [
    "<img src=\"./assets/Attention.png\" alt=\"drawing\" style=\"width:1000px;\"/>"
   ]
  },
  {
   "cell_type": "markdown",
   "metadata": {},
   "source": [
    "## Why LLMs Hallucinate"
   ]
  },
  {
   "cell_type": "markdown",
   "metadata": {},
   "source": [
    "<img src=\"./assets/Halluc.png\" alt=\"drawing\" style=\"width:1000px;\"/>"
   ]
  },
  {
   "cell_type": "markdown",
   "metadata": {},
   "source": [
    "### Practical Example"
   ]
  },
  {
   "cell_type": "code",
   "execution_count": 18,
   "metadata": {},
   "outputs": [],
   "source": [
    "import numpy as np\n",
    "import matplotlib.pyplot as plt"
   ]
  },
  {
   "cell_type": "code",
   "execution_count": 19,
   "metadata": {},
   "outputs": [],
   "source": [
    "def sigmoid(X):\n",
    "   return 1/(1+np.exp(-X))\n",
    "class VanillaRNN():\n",
    "  def __init__(self,size=8):\n",
    "    # define size x size vector\n",
    "    self.size=size\n",
    "    self.memory_states=[]\n",
    "    self.weigths=np.zeros((size*size,size*size))\n",
    "\n",
    "  def set_memory_state(self,state):\n",
    "    self.memory_states.append(state)\n",
    "\n",
    "  def print_memory_states(self):\n",
    "    total_memory=len(self.memory_states)\n",
    "    fig, axs = plt.subplots(nrows=total_memory, ncols=1, figsize=(8, 6))\n",
    "    for ax, memory_state in zip(axs, self.memory_states):\n",
    "      vector_square=memory_state.reshape(self.size,self.size)\n",
    "      ax.imshow(vector_square, cmap='gray')\n",
    "    fig.show()\n",
    "\n",
    "  def hebbian_learning(self):\n",
    "    for m in self.memory_states:\n",
    "        print('State Learned')\n",
    "        m = np.where(m == 0, -1, m)\n",
    "        outer_product = np.outer(m, m)\n",
    "        np.fill_diagonal(outer_product, 0)\n",
    "\n",
    "        self.weigths += outer_product\n",
    "    self.weigths /= len(self.memory_states)\n",
    "\n",
    "  @staticmethod\n",
    "  def update_state(W, state):\n",
    "    size = state.size\n",
    "    new_state = state.copy()\n",
    "    for i in range(size):\n",
    "        weighted_sum = np.dot(W[i, :], state)\n",
    "        new_state[i] = 1 if weighted_sum > 0 else -1\n",
    "    return new_state\n",
    "\n",
    "  def recall(self,initial_state):\n",
    "    current_state = initial_state\n",
    "    i=0\n",
    "    while True:\n",
    "        i+=1\n",
    "        next_state = self.update_state(self.weigths, current_state)\n",
    "        if np.array_equal(next_state, current_state):\n",
    "            print('Convergence reached in',i,'iterations')\n",
    "            break  # Convergence reached\n",
    "        current_state = next_state\n",
    "    return current_state"
   ]
  },
  {
   "cell_type": "code",
   "execution_count": 20,
   "metadata": {},
   "outputs": [
    {
     "name": "stdout",
     "output_type": "stream",
     "text": [
      "State Learned\n",
      "State Learned\n",
      "State Learned\n"
     ]
    },
    {
     "name": "stderr",
     "output_type": "stream",
     "text": [
      "/var/folders/db/hk4pr53504x2lk8kpgbxs6_c0000gn/T/ipykernel_4789/3911467420.py:19: UserWarning: FigureCanvasAgg is non-interactive, and thus cannot be shown\n",
      "  fig.show()\n"
     ]
    },
    {
     "data": {
      "image/png": "[encoded data removed]",
      "text/plain": [
       "<Figure size 800x600 with 3 Axes>"
      ]
     },
     "metadata": {},
     "output_type": "display_data"
    }
   ],
   "source": [
    "a = VanillaRNN(10)\n",
    "a.set_memory_state(np.array([0,0,1,1,1,1,1,0,0,0,0,1,0,0,0,0,1,0,0,0,1,0,0,0,0,0,1,0,0,0,1,1,1,1,1,1,1,1,1,1,1,0,0,0,0,0,1,0,0,1,1,0,0,0,0,0,1,0,0,1,1,1,1,1,1,1,1,1,1,1,1,0,0,1,0,0,0,0,0,1,1,0,0,1,0,0,0,0,1,0,1,1,1,1,1,1,1,1,0,0]))\n",
    "a.set_memory_state(np.array([1,0,0,0,0,0,0,0,0,1,0,1,0,0,0,0,0,0,1,0,0,0,1,0,0,0,0,1,0,0,0,0,0,1,0,0,1,0,0,0,0,0,0,0,1,1,0,0,0,0,0,0,0,0,1,1,0,0,0,0,0,0,0,1,0,0,1,0,0,0,0,0,1,0,0,0,0,1,0,0,0,1,0,0,0,0,0,0,1,0,1,0,0,0,0,0,0,0,0,1]))\n",
    "a.set_memory_state(np.array([0,0,0,0,0,0,0,0,0,0,0,1,1,1,1,1,1,1,1,0,0,1,0,0,0,0,0,0,1,0,0,1,0,1,1,1,1,0,1,0,0,1,0,1,0,0,1,0,1,0,0,1,0,1,0,0,1,0,1,0,0,1,0,1,1,1,1,0,1,0,0,1,0,0,0,0,0,0,1,0,0,1,1,1,1,1,1,1,1,0,0,0,0,0,0,0,0,0,0,0]))\n",
    "a.hebbian_learning()\n",
    "a.print_memory_states()"
   ]
  },
  {
   "cell_type": "code",
   "execution_count": 21,
   "metadata": {},
   "outputs": [
    {
     "data": {
      "image/png": "[encoded data removed]",
      "text/plain": [
       "<Figure size 640x480 with 1 Axes>"
      ]
     },
     "metadata": {},
     "output_type": "display_data"
    },
    {
     "name": "stdout",
     "output_type": "stream",
     "text": [
      "Convergence reached in 2 iterations\n"
     ]
    },
    {
     "data": {
      "image/png": "[encoded data removed]",
      "text/plain": [
       "<Figure size 640x480 with 1 Axes>"
      ]
     },
     "metadata": {},
     "output_type": "display_data"
    }
   ],
   "source": [
    "# Teste de Memoria\n",
    "starting_state=np.array(\n",
    "[1,0,0,0,0,0,0,0,0,1\n",
    ",0,1,0,0,0,0,0,0,1,0\n",
    ",0,0,0,0,0,0,0,1,0,0\n",
    ",0,0,0,0,0,0,1,0,0,0\n",
    ",0,0,0,0,0,0,0,0,0,0\n",
    ",0,0,0,0,0,0,0,0,0,0\n",
    ",0,0,0,0,0,0,0,0,0,0\n",
    ",0,0,0,0,0,0,0,0,0,0\n",
    ",0,0,0,0,0,0,0,0,0,0\n",
    ",0,0,0,0,0,0,0,0,0,0])\n",
    "vector_square=starting_state.reshape(10,10)\n",
    "plt.imshow(vector_square,cmap='gray')\n",
    "plt.show()\n",
    "stt=a.recall(starting_state)\n",
    "vector_square=stt.reshape(10,10)\n",
    "plt.imshow(vector_square,cmap='gray')\n",
    "plt.show()"
   ]
  },
  {
   "cell_type": "code",
   "execution_count": 22,
   "metadata": {},
   "outputs": [
    {
     "data": {
      "image/png": "[encoded data removed]",
      "text/plain": [
       "<Figure size 640x480 with 1 Axes>"
      ]
     },
     "metadata": {},
     "output_type": "display_data"
    },
    {
     "name": "stdout",
     "output_type": "stream",
     "text": [
      "Convergence reached in 2 iterations\n"
     ]
    },
    {
     "data": {
      "image/png": "[encoded data removed]",
      "text/plain": [
       "<Figure size 640x480 with 1 Axes>"
      ]
     },
     "metadata": {},
     "output_type": "display_data"
    }
   ],
   "source": [
    "# Teste de Memoria\n",
    "starting_state=np.array(\n",
    "[0,0,1,0,0,0,0,0,0,1\n",
    ",0,1,0,0,0,0,0,0,1,0\n",
    ",1,0,0,0,0,0,0,1,0,0\n",
    ",1,1,1,1,1,1,1,0,0,0\n",
    ",0,0,0,0,0,0,0,0,0,0\n",
    ",0,0,0,0,0,0,0,0,0,0\n",
    ",0,0,0,0,0,0,0,0,0,0\n",
    ",0,0,0,0,0,0,0,0,0,0\n",
    ",0,0,0,0,0,0,0,0,0,0\n",
    ",0,0,0,0,0,0,0,0,0,0])\n",
    "vector_square=starting_state.reshape(10,10)\n",
    "plt.imshow(vector_square,cmap='gray')\n",
    "plt.show()\n",
    "stt=a.recall(starting_state)\n",
    "vector_square=stt.reshape(10,10)\n",
    "plt.imshow(vector_square,cmap='gray')\n",
    "plt.show()"
   ]
  },
  {
   "cell_type": "code",
   "execution_count": 23,
   "metadata": {},
   "outputs": [
    {
     "data": {
      "image/png": "[encoded data removed]",
      "text/plain": [
       "<Figure size 640x480 with 1 Axes>"
      ]
     },
     "metadata": {},
     "output_type": "display_data"
    },
    {
     "name": "stdout",
     "output_type": "stream",
     "text": [
      "Convergence reached in 3 iterations\n"
     ]
    },
    {
     "data": {
      "image/png": "[encoded data removed]",
      "text/plain": [
       "<Figure size 640x480 with 1 Axes>"
      ]
     },
     "metadata": {},
     "output_type": "display_data"
    }
   ],
   "source": [
    "# Teste de Memoria\n",
    "starting_state=np.array(\n",
    "[0,0,1,0,0,0,0,0,0,1\n",
    ",0,1,0,0,0,0,0,0,1,0\n",
    ",1,0,0,0,0,0,0,1,0,0\n",
    ",1,1,1,1,1,1,1,0,0,0\n",
    ",0,0,0,0,0,1,0,0,0,0\n",
    ",0,0,0,0,1,0,0,0,0,0\n",
    ",0,0,0,1,0,0,0,0,0,0\n",
    ",0,0,1,0,0,0,0,0,0,0\n",
    ",0,1,0,0,0,0,1,1,1,1\n",
    ",0,0,0,0,0,0,0,0,0,0])\n",
    "vector_square=starting_state.reshape(10,10)\n",
    "plt.imshow(vector_square,cmap='gray')\n",
    "plt.show()\n",
    "stt=a.recall(starting_state)\n",
    "vector_square=stt.reshape(10,10)\n",
    "plt.imshow(vector_square,cmap='gray')\n",
    "plt.show()"
   ]
  },
  {
   "cell_type": "markdown",
   "metadata": {},
   "source": [
    "## Agent"
   ]
  },
  {
   "cell_type": "markdown",
   "metadata": {},
   "source": [
    "<img src=\"./assets/agent-tools.jpeg\" alt=\"drawing\" style=\"width:1000px;\"/>\n"
   ]
  },
  {
   "cell_type": "markdown",
   "metadata": {},
   "source": [
    "## Setup"
   ]
  },
  {
   "cell_type": "markdown",
   "metadata": {},
   "source": [
    "### Langchain Components"
   ]
  },
  {
   "cell_type": "markdown",
   "metadata": {},
   "source": [
    "<img src=\"./assets/langchain-components.jpeg\" alt=\"drawing\" style=\"width:800px;\"/>\n"
   ]
  },
  {
   "cell_type": "markdown",
   "metadata": {},
   "source": [
    "Installing dependencies"
   ]
  },
  {
   "cell_type": "code",
   "execution_count": null,
   "metadata": {},
   "outputs": [],
   "source": [
    "# pip install pandas pydantic\n",
    "# pip install langchain langchain_core langchain_openai langchain_community langgraph\n",
    "# pip install bigquery google db-types\n",
    "# pip install wikipedia serpapi google-search-results numexpr\n",
    "# pip install PyPDF2 python-docx "
   ]
  },
  {
   "cell_type": "markdown",
   "metadata": {},
   "source": [
    "Loading ENV"
   ]
  },
  {
   "cell_type": "code",
   "execution_count": 24,
   "metadata": {},
   "outputs": [],
   "source": [
    "## Loading the environment\n",
    "import os\n",
    "\n",
    "os.getenv('./env')\n",
    "\n",
    "openAiApiKey = os.getenv('OPENAI_API_KEY')"
   ]
  },
  {
   "cell_type": "markdown",
   "metadata": {},
   "source": [
    "Referencing the models"
   ]
  },
  {
   "cell_type": "code",
   "execution_count": 25,
   "metadata": {},
   "outputs": [],
   "source": [
    "from langchain_openai import ChatOpenAI\n",
    "from langchain_openai import OpenAIEmbeddings\n",
    "\n",
    "light_model = ChatOpenAI(\n",
    "    model=\"gpt-3.5-turbo\",\n",
    "    temperature=0,\n",
    "    verbose=True\n",
    "  )\n",
    "\n",
    "powerful_model = ChatOpenAI(\n",
    "    model=\"gpt-4-turbo-2024-04-09\",\n",
    "    temperature=0,\n",
    "    verbose=True\n",
    "  )\n"
   ]
  },
  {
   "cell_type": "code",
   "execution_count": 26,
   "metadata": {},
   "outputs": [
    {
     "data": {
      "text/plain": [
       "AIMessage(content='Brasília', response_metadata={'token_usage': {'completion_tokens': 3, 'prompt_tokens': 14, 'total_tokens': 17}, 'model_name': 'gpt-3.5-turbo', 'system_fingerprint': 'fp_c2295e73ad', 'finish_reason': 'stop', 'logprobs': None})"
      ]
     },
     "execution_count": 26,
     "metadata": {},
     "output_type": "execute_result"
    }
   ],
   "source": [
    "light_model.invoke(\"What is the capital of Brazil?\")"
   ]
  },
  {
   "cell_type": "code",
   "execution_count": 27,
   "metadata": {},
   "outputs": [
    {
     "data": {
      "text/plain": [
       "'In Rust, multithreading can be achieved using the `std::thread` module. Here is a basic example of how to create and run multiple threads in Rust:\\n\\n1. Import the necessary module:\\n```rust\\nuse std::thread;\\n```\\n\\n2. Define a function that will be executed by each thread:\\n```rust\\nfn thread_function(id: i32) {\\n    println!(\"Thread {} is running\", id);\\n}\\n```\\n\\n3. Create and run multiple threads:\\n```rust\\nfn main() {\\n    let mut handles = vec![];\\n\\n    for i in 0..5 {\\n        let handle = thread::spawn(move || {\\n            thread_function(i);\\n        });\\n        handles.push(handle);\\n    }\\n\\n    for handle in handles {\\n        handle.join().unwrap();\\n    }\\n}\\n```\\n\\nIn this example, we first define a function `thread_function` that takes an `i32` parameter and prints a message indicating the thread ID. Then, in the `main` function, we create a vector to store thread handles, iterate over a range of numbers to create multiple threads using `thread::spawn`, and push the handles to the vector. Finally, we wait for all threads to finish using `join`.\\n\\nRemember that Rust\\'s ownership system ensures that data races are prevented at compile time, making it easier to write safe multithreaded code.'"
      ]
     },
     "execution_count": 27,
     "metadata": {},
     "output_type": "execute_result"
    }
   ],
   "source": [
    "from langchain_core.prompts import ChatPromptTemplate\n",
    "from langchain_core.output_parsers import StrOutputParser\n",
    "\n",
    "\n",
    "prompt = ChatPromptTemplate.from_messages(\n",
    "    [\n",
    "        (\"system\", \"\"\"\n",
    "            You are a backend developer, and you are an expert in RUST.\n",
    "         \"\"\"),\n",
    "        (\"user\", \"\"\"\n",
    "        Answer this question as best as you can: {question}\n",
    "    \"\"\")]\n",
    ")\n",
    "\n",
    "parser = StrOutputParser()\n",
    "\n",
    "chain = (\n",
    "    prompt \n",
    "    | light_model \n",
    "    | parser\n",
    ")\n",
    "\n",
    "res = chain.invoke({\"question\": \"How to multithread in rust?\"})\n",
    "\n",
    "res"
   ]
  },
  {
   "cell_type": "markdown",
   "metadata": {},
   "source": [
    "Memory Provider"
   ]
  },
  {
   "cell_type": "code",
   "execution_count": 28,
   "metadata": {},
   "outputs": [],
   "source": [
    "from langchain.memory import ConversationBufferMemory\n",
    "\n",
    "\n",
    "chat_history = ConversationBufferMemory(memory_key=\"chat_history\")"
   ]
  },
  {
   "cell_type": "markdown",
   "metadata": {},
   "source": [
    "## Data Extraction"
   ]
  },
  {
   "cell_type": "markdown",
   "metadata": {},
   "source": [
    "### Documentos Internos Brick (Normal Chunking)"
   ]
  },
  {
   "cell_type": "code",
   "execution_count": 29,
   "metadata": {},
   "outputs": [],
   "source": [
    "import requests\n",
    "from bs4 import BeautifulSoup\n",
    "\n",
    "main_page=requests.get('https://brickseguros.com.br')\n",
    "soup = BeautifulSoup(main_page.content, 'lxml')\n",
    "text=soup.get_text()\n",
    "links=[]\n",
    "for link in soup.find_all('a', href=True):\n",
    "    if 'http' in link['href'] and 'brickseguros.com.br' in link['href'] and 'mailto' not in link['href'] and link['href']!='https://brickseguros.com.br' :\n",
    "        links.append(link['href'])\n",
    "links=list(set(links))\n",
    "\n",
    "for link in links:\n",
    "    page=requests.get(link)\n",
    "    soup = BeautifulSoup(page.content, 'lxml')\n",
    "    text+=soup.get_text()\n",
    "\n",
    "brickdocuments=text"
   ]
  },
  {
   "cell_type": "code",
   "execution_count": 30,
   "metadata": {},
   "outputs": [],
   "source": [
    "import PyPDF2\n",
    "\n",
    "with open('documents/brick_bs_cg.pdf', 'rb') as file:\n",
    "    reader = PyPDF2.PdfReader(file)\n",
    "    policy_conditions=''\n",
    "    for i in range(len(reader.pages)):\n",
    "        policy_conditions+=reader.pages[i].extract_text()\n"
   ]
  },
  {
   "cell_type": "markdown",
   "metadata": {},
   "source": [
    "### Circulares SUSEP (RAPTOR)"
   ]
  },
  {
   "cell_type": "markdown",
   "metadata": {},
   "source": [
    "### First Extraction"
   ]
  },
  {
   "cell_type": "code",
   "execution_count": 31,
   "metadata": {},
   "outputs": [],
   "source": [
    "from PyPDF2 import PdfReader\n",
    "import io\n",
    "\n",
    "def get_susep_doc(url):\n",
    "    r=requests.get(url)\n",
    "    reader = PdfReader(io.BytesIO(r.content))\n",
    "    out_str=''\n",
    "    for i in range(len(reader.pages)):\n",
    "        out_str+=reader.pages[i].extract_text()\n",
    "    return out_str"
   ]
  },
  {
   "cell_type": "code",
   "execution_count": 32,
   "metadata": {},
   "outputs": [],
   "source": [
    "def get_gov_doc(url):\n",
    "    r=requests.get(url)\n",
    "    # Parse the HTML content using BeautifulSoup\n",
    "    soup = BeautifulSoup(r.text, 'html.parser')\n",
    "\n",
    "    # Find the div with class 'texto-dou'\n",
    "    target_div = soup.find('div', class_='texto-dou')\n",
    "\n",
    "    if target_div:\n",
    "        # Print the entire text content of the found div, including its children\n",
    "        return target_div.get_text()\n",
    "    else:\n",
    "        print(\"No div with class 'texto-dou' found\")"
   ]
  },
  {
   "cell_type": "code",
   "execution_count": 33,
   "metadata": {},
   "outputs": [],
   "source": [
    "docs=[]\n",
    "links_susep=[]\n",
    "links_gov=[]\n",
    "with open('documents/susep_links.txt') as f:\n",
    "    for line in f:\n",
    "        if line.startswith('https://www2.susep.gov.br'):\n",
    "            links_susep.append(line.strip())\n",
    "        else:\n",
    "            links_gov.append(line.strip())\n"
   ]
  },
  {
   "cell_type": "code",
   "execution_count": null,
   "metadata": {},
   "outputs": [],
   "source": [
    "\n",
    "from tqdm import tqdm\n",
    "\n",
    "for item in tqdm(links_susep):\n",
    "    try:\n",
    "        docs.append(get_susep_doc(item))\n",
    "    except:\n",
    "        print('Error on',item)\n",
    "for item in tqdm(links_gov):\n",
    "    try:\n",
    "        docs.append(get_gov_doc(item))\n",
    "    except:\n",
    "        print('Error on',item)"
   ]
  },
  {
   "cell_type": "code",
   "execution_count": null,
   "metadata": {},
   "outputs": [],
   "source": [
    "for index,item in enumerate(docs):\n",
    "    with open(f'documents/raw_susep/{index}.txt','w') as f:\n",
    "        f.write(item)"
   ]
  },
  {
   "cell_type": "markdown",
   "metadata": {},
   "source": [
    "### Extraction to index"
   ]
  },
  {
   "cell_type": "code",
   "execution_count": 34,
   "metadata": {},
   "outputs": [],
   "source": [
    "susep_docs=[]\n",
    "for file in os.listdir('documents/raw_susep'):\n",
    "    with open(f'documents/raw_susep/{file}','r') as f:\n",
    "        susep_docs.append(f.read())"
   ]
  },
  {
   "cell_type": "markdown",
   "metadata": {},
   "source": [
    "### Código Civil (Multi Representation)"
   ]
  },
  {
   "cell_type": "code",
   "execution_count": 13,
   "metadata": {},
   "outputs": [],
   "source": [
    "with open('documents/codcivil.html','r',encoding='utf-8') as f:\n",
    "    soup = BeautifulSoup(f.read(), 'lxml')\n",
    "#get all elements inside mais soup\n",
    "elements = soup.find_all(recursive=False)[0].find_all(recursive=False)[0].find_all(recursive=False)\n",
    "textelements=[x.get_text().strip() for x in elements]\n"
   ]
  },
  {
   "cell_type": "code",
   "execution_count": 14,
   "metadata": {},
   "outputs": [],
   "source": [
    "livro=''\n",
    "titulo=''\n",
    "capitulo=''\n",
    "secao=''\n",
    "subsecao=''\n",
    "outstr=''\n",
    "lastwastext=False\n",
    "codigo_civill=[]\n",
    "for item in textelements:\n",
    "    if item.startswith('LIVRO'):\n",
    "        if lastwastext:\n",
    "            codigo_civill.append(outstr)\n",
    "        livro=item\n",
    "        titulo=''\n",
    "        capitulo=''\n",
    "        secao=''\n",
    "        subsecao=''\n",
    "        outstr=''\n",
    "        lastwastext=False\n",
    "    elif item.startswith('TÍTULO'):\n",
    "        if lastwastext:\n",
    "            codigo_civill.append(outstr)\n",
    "        titulo=item\n",
    "        capitulo=''\n",
    "        secao=''\n",
    "        subsecao=''\n",
    "        outstr=''\n",
    "        lastwastext=False\n",
    "    elif item.startswith('CAPÍTULO'):\n",
    "        if lastwastext:\n",
    "            codigo_civill.append(outstr)\n",
    "        capitulo=item\n",
    "        secao=''\n",
    "        subsecao=''\n",
    "        outstr=''\n",
    "        lastwastext=False\n",
    "    elif item.startswith('Seção'):\n",
    "        if lastwastext:\n",
    "            codigo_civill.append(outstr)\n",
    "        secao=item\n",
    "        subsecao=''\n",
    "        outstr=''\n",
    "        lastwastext=False\n",
    "    elif item.startswith('SUBSEÇÃO'):\n",
    "        if lastwastext:\n",
    "            codigo_civill.append(outstr)\n",
    "        subsecao=item\n",
    "        outstr=''\n",
    "        lastwastext=False\n",
    "    else:\n",
    "        if not lastwastext:\n",
    "            outstr+=f'{livro} - {titulo} - {capitulo} - {secao} - {subsecao}\\n'\n",
    "        lastwastext=True\n",
    "        outstr += item+'\\n'\n"
   ]
  },
  {
   "cell_type": "markdown",
   "metadata": {},
   "source": [
    "## Indexing"
   ]
  },
  {
   "cell_type": "markdown",
   "metadata": {},
   "source": [
    "### Brick"
   ]
  },
  {
   "cell_type": "code",
   "execution_count": 35,
   "metadata": {},
   "outputs": [
    {
     "name": "stdout",
     "output_type": "stream",
     "text": [
      "71\n"
     ]
    }
   ],
   "source": [
    "from langchain_text_splitters import RecursiveCharacterTextSplitter\n",
    "from langchain_community.vectorstores import Chroma\n",
    "\n",
    "text_splitter = RecursiveCharacterTextSplitter(\n",
    "    chunk_size=500, \n",
    "    chunk_overlap=50, \n",
    "    separators=[\"#######\", \"\\n\", \"\\r\\n\", \"\\r\"],\n",
    ")\n",
    "\n",
    "texts = text_splitter.split_text(brickdocuments)\n",
    "documents = text_splitter.create_documents(texts)\n",
    "print(len(documents))\n",
    "db = Chroma.from_documents(documents, OpenAIEmbeddings(\n",
    "),collection_name='brick_general')\n",
    "\n",
    "brick_general_retriever = db.as_retriever(collection_name='brick_general')"
   ]
  },
  {
   "cell_type": "code",
   "execution_count": 36,
   "metadata": {},
   "outputs": [
    {
     "name": "stdout",
     "output_type": "stream",
     "text": [
      "320\n"
     ]
    }
   ],
   "source": [
    "\n",
    "text_splitter = RecursiveCharacterTextSplitter(\n",
    "    chunk_size=500, \n",
    "    chunk_overlap=50, \n",
    "    separators=[\"#######\", \"\\n\", \"\\r\\n\", \"\\r\"],\n",
    ")\n",
    "\n",
    "texts = text_splitter.split_text(policy_conditions)\n",
    "documents = text_splitter.create_documents(texts)\n",
    "print(len(documents))\n",
    "db2 = Chroma.from_documents(documents, OpenAIEmbeddings(\n",
    "),collection_name='insurance_brick')\n",
    "\n",
    "brick_insurance_retriever = db2.as_retriever(collection_name='insurance_brick')"
   ]
  },
  {
   "cell_type": "markdown",
   "metadata": {},
   "source": [
    "### SUSEP"
   ]
  },
  {
   "cell_type": "code",
   "execution_count": 37,
   "metadata": {},
   "outputs": [
    {
     "name": "stdout",
     "output_type": "stream",
     "text": [
      "2125\n"
     ]
    }
   ],
   "source": [
    "texts='#####################################'.join(susep_docs)\n",
    "text_splitter = RecursiveCharacterTextSplitter(\n",
    "    chunk_size=500, \n",
    "    chunk_overlap=50, \n",
    "    separators=[\"#######\", \"\\n\", \"\\r\\n\", \"\\r\"],\n",
    ")\n",
    "\n",
    "texts = text_splitter.split_text(texts)\n",
    "documents = text_splitter.create_documents(texts)\n",
    "print(len(documents))\n",
    "db = Chroma.from_documents(documents, OpenAIEmbeddings(\n",
    "),collection_name='susep')\n",
    "\n",
    "brick_susep_retriever = db.as_retriever(collection_name='susep')"
   ]
  },
  {
   "cell_type": "markdown",
   "metadata": {},
   "source": [
    "### Código civil"
   ]
  },
  {
   "cell_type": "markdown",
   "metadata": {},
   "source": [
    "Tokenizing"
   ]
  },
  {
   "cell_type": "code",
   "execution_count": null,
   "metadata": {},
   "outputs": [],
   "source": [
    "from langchain_core.prompts import ChatPromptTemplate\n",
    "from langchain_core.output_parsers import StrOutputParser\n",
    "import json\n",
    "from langchain_core.documents import Document\n",
    "\n",
    "\n",
    "chain = (\n",
    "    {\"doc\": lambda x: x.page_content}\n",
    "    | ChatPromptTemplate.from_template(\"Summarize os seguintes documentos::\\n\\n{doc}\")\n",
    "    | light_model\n",
    "    | StrOutputParser()\n",
    ")\n",
    "docs=[Document(x) for x in codigo_civill]\n",
    "summaries = chain.batch(docs, {\"max_concurrency\": 5})\n",
    "\n",
    "with open('cod_civil_summaries.json','w') as f:\n",
    "    json.dump(summaries, f)"
   ]
  },
  {
   "cell_type": "markdown",
   "metadata": {},
   "source": [
    "Loading Tokenized Civil Code"
   ]
  },
  {
   "cell_type": "code",
   "execution_count": 38,
   "metadata": {},
   "outputs": [],
   "source": [
    "import json\n",
    "\n",
    "# Load the summaries\n",
    "with open('cod_civil_summaries.json','r') as f:\n",
    "    summaries=json.load(f)\n"
   ]
  },
  {
   "cell_type": "code",
   "execution_count": 39,
   "metadata": {},
   "outputs": [],
   "source": [
    "from langchain.storage import InMemoryByteStore\n",
    "from langchain_openai import OpenAIEmbeddings\n",
    "from langchain_community.vectorstores import Chroma\n",
    "from langchain.retrievers.multi_vector import MultiVectorRetriever\n",
    "from langchain_core.documents import Document\n",
    "import uuid\n",
    "\n",
    "docs=[Document(x) for x in codigo_civill]\n",
    "# The vectorstore to use to index the child chunks\n",
    "vectorstore_cc = Chroma(collection_name=\"summaries\",\n",
    "                     embedding_function=OpenAIEmbeddings())\n",
    "\n",
    "# The storage layer for the parent documents\n",
    "store = InMemoryByteStore()\n",
    "id_key = \"doc_id\"\n",
    "\n",
    "# The retriever\n",
    "retriever_cc = MultiVectorRetriever(\n",
    "    vectorstore=vectorstore_cc,\n",
    "    byte_store=store,\n",
    "    id_key=id_key,\n",
    "    search_kwargs={\"k\": 3}\n",
    "\n",
    ")\n",
    "doc_ids = [str(uuid.uuid4()) for _ in docs]\n",
    "\n",
    "# Docs linked to summaries\n",
    "summary_docs = [\n",
    "    Document(page_content=s, metadata={id_key: doc_ids[i]})\n",
    "    for i, s in enumerate(summaries)\n",
    "]\n",
    "\n",
    "# Add\n",
    "retriever_cc.vectorstore.add_documents(summary_docs)\n",
    "retriever_cc.docstore.mset(list(zip(doc_ids, docs)))"
   ]
  },
  {
   "cell_type": "markdown",
   "metadata": {},
   "source": [
    "## Tools"
   ]
  },
  {
   "cell_type": "markdown",
   "metadata": {},
   "source": [
    "### File Reading"
   ]
  },
  {
   "cell_type": "code",
   "execution_count": 40,
   "metadata": {},
   "outputs": [
    {
     "data": {
      "text/plain": [
       "{'content': '\\nLocadora XPTY - Forms\\n\\nFormulário para Cadastro de motoristas do vendedor Guilherme \\n\\nCor: #00FF00\\nEntidade: PF',\n",
       " 'error': None,\n",
       " 'file': './files/inputs.txt'}"
      ]
     },
     "execution_count": 40,
     "metadata": {},
     "output_type": "execute_result"
    }
   ],
   "source": [
    "from langchain_core.tools import tool\n",
    "import PyPDF2\n",
    "import docx\n",
    "import json\n",
    "\n",
    "@tool\n",
    "def read_txt_file(file: str):\n",
    "    \"\"\"\n",
    "        This tool reads a text file and returns its content.\n",
    "        It receives the file path as input.\n",
    "    \"\"\"\n",
    "    try:\n",
    "        with open(file, 'r') as f:\n",
    "            return {\n",
    "                \"content\": f.read(),\n",
    "                \"error\": None,\n",
    "                \"file\": file\n",
    "            }\n",
    "    except Exception as e:\n",
    "        return {\n",
    "            \"content\": None,\n",
    "            \"error\": str(e),\n",
    "            \"file\": file\n",
    "        }\n",
    "\n",
    "@tool\n",
    "def read_docx_file(file):\n",
    "    \"\"\"\n",
    "        This tool reads a docx file and returns its content.\n",
    "        It receives the file path as input.\n",
    "    \"\"\"\n",
    "\n",
    "    try:\n",
    "        doc = docx.Document(file)\n",
    "        fullText = []\n",
    "        for para in doc.paragraphs:\n",
    "            fullText.append(para.text)\n",
    "        return {\n",
    "            \"content\": '\\n'.join(fullText),\n",
    "            \"error\": None,\n",
    "            \"file\": file\n",
    "        }\n",
    "        # return {\n",
    "        #     \"content\": \"NOT SUPORTED YET!\",\n",
    "        #     \"error\": None,\n",
    "        #     \"file\": file\n",
    "        # }\n",
    "    except Exception as e:\n",
    "        return {\n",
    "            \"content\": None,\n",
    "            \"error\": str(e),\n",
    "            \"file\": file\n",
    "        }\n",
    "\n",
    "@tool\n",
    "def read_pdf_file(file):\n",
    "    \"\"\"\n",
    "        This tool reads a pdf file and returns its content.\n",
    "        It receives the file path as input.\n",
    "    \"\"\"\n",
    "\n",
    "    try :\n",
    "        with open(file, 'rb') as f:\n",
    "            pdf = PyPDF2.PdfReader(f)\n",
    "            fullText = []\n",
    "            for page_num in range(len(pdf.pages)):\n",
    "                page = pdf.pages[page_num]\n",
    "                fullText.append(page.extract_text())\n",
    "            return {\n",
    "                \"content\": '\\n'.join(fullText),\n",
    "                \"error\": None,\n",
    "                \"file\": file\n",
    "            }\n",
    "    except Exception as e:\n",
    "        return {\n",
    "            \"content\": None,\n",
    "            \"error\": str(e),\n",
    "            \"file\": file\n",
    "        }\n",
    "@tool\n",
    "def read_md_file(file):\n",
    "    \"\"\"\n",
    "        This tool reads a markdown file and returns its content.\n",
    "        It receives the file path as input.\n",
    "    \"\"\"\n",
    "\n",
    "    try:\n",
    "        with open(file, 'r') as f:\n",
    "            return {\n",
    "                \"content\": f.read(),\n",
    "                \"error\": None,\n",
    "                \"file\": file\n",
    "            }\n",
    "    except Exception as e:\n",
    "        return {\n",
    "            \"content\": None,\n",
    "            \"error\": str(e),\n",
    "            \"file\": file\n",
    "        }\n",
    "    \n",
    "@tool \n",
    "def read_html_file(file):\n",
    "    \"\"\"\n",
    "        This tool reads a html file and returns its content.\n",
    "        It receives the file path as input.\n",
    "    \"\"\"\n",
    "\n",
    "    try:\n",
    "        with open(file, 'r') as f:\n",
    "            return {\n",
    "                \"content\": f.read(),\n",
    "                \"error\": None,\n",
    "                \"file\": file\n",
    "            }\n",
    "    except Exception as e:\n",
    "        return {\n",
    "            \"content\": None,\n",
    "            \"error\": str(e),\n",
    "            \"file\": file\n",
    "        }\n",
    "    \n",
    "@tool\n",
    "def read_json_file(file):\n",
    "    \"\"\"\n",
    "        This tool reads a json file and returns its content.\n",
    "        It receives the file path as input.\n",
    "    \"\"\"\n",
    "\n",
    "    try:\n",
    "        with open(file, 'r') as f:\n",
    "            return {\n",
    "                \"content\": json.load(f),\n",
    "                \"error\": None,\n",
    "                \"file\": file\n",
    "            }\n",
    "    except Exception as e:\n",
    "        return {\n",
    "            \"content\": None,\n",
    "            \"error\": str(e),\n",
    "            \"file\": file\n",
    "        }\n",
    "    \n",
    "read_txt_file('./files/inputs.txt')"
   ]
  },
  {
   "cell_type": "markdown",
   "metadata": {},
   "source": [
    "### Chart Plotting"
   ]
  },
  {
   "cell_type": "code",
   "execution_count": null,
   "metadata": {},
   "outputs": [],
   "source": [
    "from langchain_core.tools import tool\n",
    "from typing import List\n",
    "import matplotlib.pyplot as plt\n",
    "      \n",
    "@tool\n",
    "def plot_bar_chart(\n",
    "      labels: List,\n",
    "      values: List,\n",
    "      title: str,\n",
    "      x_label: str,\n",
    "      y_label: str\n",
    "):\n",
    "      \"\"\"\n",
    "            This tool plots a bar chart. \n",
    "          \n",
    "      \"\"\"\n",
    "      try:\n",
    "\n",
    "            if (labels is None):\n",
    "                  return {\n",
    "                        \"message\": \"O campo labels não pode ser nulo. Envie em um formato válido.\"\n",
    "                  }\n",
    "\n",
    "            if(values is None):\n",
    "                  return {\n",
    "                        \"message\": \"O campo values não pode ser nulo. Envie em um formato válido.\"\n",
    "                  }\n",
    "            \n",
    "\n",
    "            # Plotting the bar chart\n",
    "            plt.bar(labels, values)\n",
    "            plt.xlabel(x_label)\n",
    "            plt.ylabel(y_label)\n",
    "            plt.title(title)\n",
    "            plt.show()\n",
    "      except Exception as error:\n",
    "        return {\n",
    "             \"message\": \"Tente formatar novamente os dados\",\n",
    "            \"error\": error\n",
    "        }\n",
    "      \n",
    "\n",
    "@tool\n",
    "def plot_line_chart(\n",
    "      labels: List,\n",
    "      values: List,\n",
    "      title: str,\n",
    "      x_label: str,\n",
    "      y_label: str\n",
    "):\n",
    "      \"\"\"\n",
    "            This tool plots a line chart. \n",
    "          \n",
    "      \"\"\"\n",
    "      try:\n",
    "\n",
    "            if (labels is None):\n",
    "                  return {\n",
    "                        \"message\": \"O campo labels não pode ser nulo. Envie em um formato válido.\"\n",
    "                  }\n",
    "\n",
    "            if(values is None):\n",
    "                  return {\n",
    "                        \"message\": \"O campo values não pode ser nulo. Envie em um formato válido.\"\n",
    "                  }\n",
    "            \n",
    "\n",
    "            # Plotting the line chart\n",
    "            plt.plot(labels, values)\n",
    "            plt.xlabel(x_label)\n",
    "            plt.ylabel(y_label)\n",
    "            plt.title(title)\n",
    "            plt.show()\n",
    "      except Exception as error:\n",
    "        return {\n",
    "             \"message\": \"Tente formatar novamente os dados\",\n",
    "            \"error\": error\n",
    "        }"
   ]
  },
  {
   "cell_type": "markdown",
   "metadata": {},
   "source": [
    "### Brick Related Questions"
   ]
  },
  {
   "cell_type": "markdown",
   "metadata": {},
   "source": [
    "#### RAG - Retrieval-Augmented Generation"
   ]
  },
  {
   "cell_type": "markdown",
   "metadata": {},
   "source": [
    "<img src=\"./assets/basic-rag.jpeg\" alt=\"drawing\" style=\"width:800px;\"/>"
   ]
  },
  {
   "cell_type": "markdown",
   "metadata": {},
   "source": [
    "#### Implementation"
   ]
  },
  {
   "cell_type": "code",
   "execution_count": 48,
   "metadata": {},
   "outputs": [],
   "source": [
    "# Prompt\n",
    "brick_internal_rag_prompt = \"\"\"\n",
    "        Your name is Brick AI.\n",
    "        You work for a company called Brick Seguros - it helps fleet operators to manage thir risks.\n",
    "        You are here to help the user with his questions.\n",
    "        You are an expert in the field of fleets.\n",
    "        Answer the user's question as best as you can based on the context below.\n",
    "        Be concise and clear. Be direct and to the point.\n",
    "        Question: {question}\n",
    "        Context: {context}\n",
    "    \"\"\""
   ]
  },
  {
   "cell_type": "code",
   "execution_count": 51,
   "metadata": {},
   "outputs": [
    {
     "data": {
      "text/plain": [
       "[Document(page_content='Saiba Mais\\n\\n\\n\\n\\n\\n\\n\\n\\n\\n\\n \\n\\n\\n\\n \\n\\n\\n\\n\\n\\n\\n\\n\\n\\n\\n\\n\\n\\n\\n\\nEstamos construindo o ecossistema de segurança para frotas, tijolo por tijolo.  \\n\\n\\n\\n \\n\\n\\n\\n\\n\\n\\n\\n\\n\\n\\n\\nFaça parte do nosso ecossistema \\n\\n\\n\\n \\n\\n \\n\\n \\n\\n \\n\\n\\n\\n\\n\\n\\n\\n\\n\\nO que falam da Brick na  mídia \\n\\n\\n\\n\\n \\n\\n\\n\\n\\n\\n\\n\\n\\nEmpresas que usam Brick'),\n",
       " Document(page_content='Entre em contato com um de nossos especialistas e descubra como a Brick pode fazer a diferença na sua locadora.\\n\\nQuero conhecer o ecossistema Brick\\n\\n\\n\\n\\n\\n\\nDeixe um comentário Cancelar respostaO seu endereço de e-mail não será publicado. Campos obrigatórios são marcados com *Comentário * Nome * \\nE-mail * \\nSite \\n Salvar meus dados neste navegador para a próxima vez que eu comentar.\\n \\n\\n \\n\\n\\n\\n\\n\\n\\n\\n\\n\\n\\n \\n\\n\\n\\n\\n \\n\\n\\nInstagram\\n \\n\\n\\n\\nLinkedin\\n \\n\\n\\n\\nWhatsapp\\n \\n\\n\\n\\n\\n\\n\\n\\n\\nContato'),\n",
       " Document(page_content='Quero conhecer o ecossistema Brick\\n\\n\\n\\n\\n\\n\\nDeixe um comentário Cancelar respostaO seu endereço de e-mail não será publicado. Campos obrigatórios são marcados com *Comentário * Nome * \\nE-mail * \\nSite \\n Salvar meus dados neste navegador para a próxima vez que eu comentar.\\n \\n\\n \\n\\n\\n\\n\\n\\n\\n\\n\\n\\n\\n \\n\\n\\n\\n\\n \\n\\n\\nInstagram\\n \\n\\n\\n\\nLinkedin\\n \\n\\n\\n\\nWhatsapp\\n \\n\\n\\n\\n\\n\\n\\n\\n\\nContato \\n\\n\\n\\n\\n\\n\\n\\n \\nAv. Sete de Setembro, 2451 - Rebouças, Curitiba - PR, 80230-010\\n\\n\\n\\n\\n\\n \\ncontato@brickseguros.com.br\\n\\n\\n\\n\\n\\n \\n(41) 9 9263-9123'),\n",
       " Document(page_content='Inicie agora mesmo a construção de um ecossistema de segurança na sua locadora\\nNossos produtos são flexíveis e modulares, permitindo que você escolha quais, como e onde usar. Quanto maior a rede de locadoras parceiras da Brick, maior nosso potencial de segurança para todo o nicho.\\nEntre em contato com um de nossos especialistas e descubra como a Brick pode fazer a diferença na sua locadora.\\n\\nQuero conhecer o ecossistema Brick')]"
      ]
     },
     "execution_count": 51,
     "metadata": {},
     "output_type": "execute_result"
    }
   ],
   "source": [
    "from langchain_core.output_parsers import StrOutputParser\n",
    "from langchain_core.prompts import ChatPromptTemplate\n",
    "from operator import itemgetter\n",
    "\n",
    "# Chain\n",
    "def brick_internal_chain(question):\n",
    "\n",
    "    parser = StrOutputParser()\n",
    "    prompt = ChatPromptTemplate.from_template(brick_internal_rag_prompt)\n",
    "    chain = (\n",
    "        {\"context\": itemgetter(\"question\") | brick_general_retriever, \"question\": itemgetter(\"question\")} |\n",
    "        prompt |\n",
    "        light_model |\n",
    "        parser\n",
    "    )\n",
    "\n",
    "    result = chain.invoke({\n",
    "        \"question\": question\n",
    "    })\n",
    "\n",
    "    return result\n",
    "\n",
    "# brick_internal_chain('Quais os produtos da Brick?')\n",
    "brick_general_retriever.invoke(\"Quais os produtos da Brick?\")"
   ]
  },
  {
   "cell_type": "code",
   "execution_count": null,
   "metadata": {},
   "outputs": [],
   "source": [
    "@tool\n",
    "def brick_internal_rag_tool(\n",
    "    question: str\n",
    "):\n",
    "    \"\"\"\n",
    "        This tool retrieves answers for a questions about Brick Seguros.\n",
    "    \"\"\"\n",
    "\n",
    "    try:\n",
    "        return brick_internal_chain(question)\n",
    "    except Exception as error:\n",
    "        return str(error)"
   ]
  },
  {
   "cell_type": "markdown",
   "metadata": {},
   "source": [
    "### Insurance Questions"
   ]
  },
  {
   "cell_type": "markdown",
   "metadata": {},
   "source": [
    "#### RAG at Scale"
   ]
  },
  {
   "cell_type": "markdown",
   "metadata": {},
   "source": [
    "<img src=\"./assets/rag-schema.jpeg\" alt=\"drawing\" style=\"width:800px;\"/>"
   ]
  },
  {
   "cell_type": "markdown",
   "metadata": {},
   "source": [
    "**Routing or Adaptive RAG**\n",
    "- Semantic Routing\n",
    "\n",
    "https://arxiv.org/abs/2403.14403\n",
    "\n",
    "**Query Translation**\n",
    "- RAG-Fusion\n",
    "\n",
    "https://towardsdatascience.com/forget-rag-the-future-is-rag-fusion-1147298d8ad1"
   ]
  },
  {
   "cell_type": "markdown",
   "metadata": {},
   "source": [
    "#### Implementation"
   ]
  },
  {
   "cell_type": "markdown",
   "metadata": {},
   "source": [
    "<img src=\"./assets/insurance-graph.jpeg\" alt=\"drawing\" style=\"width:600px;\"/>\n",
    "<img src=\"./assets/rag-fusion.jpeg\" alt=\"drawing\" style=\"width:600px;\"/>"
   ]
  },
  {
   "cell_type": "code",
   "execution_count": null,
   "metadata": {},
   "outputs": [],
   "source": [
    "## Creating the state\n",
    "\n",
    "from pydantic import BaseModel\n",
    "from typing import List, Optional, TypedDict\n",
    "\n",
    "## Defining the graph state\n",
    "class InsuranceQuestionGraphState(TypedDict):\n",
    "    # Input\n",
    "    question: str\n",
    "\n",
    "    # Internal\n",
    "    errors: Optional[List[str]] = []\n",
    "\n",
    "    # Output\n",
    "    result: Optional[str] = None"
   ]
  },
  {
   "cell_type": "code",
   "execution_count": null,
   "metadata": {},
   "outputs": [],
   "source": [
    "### Defining the routing node\n",
    "from langchain_core.output_parsers import JsonOutputParser\n",
    "from langchain_core.prompts import ChatPromptTemplate\n",
    "\n",
    "\n",
    "def routing_node(state):\n",
    "    insurance_routing_message = \"\"\"\n",
    "        You are an expert at routing a user question.\n",
    "        You work for a company called Brick Seguros - it helps fleet operators to manage their risks.\n",
    "        You are very knowledgeable about the field of insurance.\n",
    "        You are a specialist in identifying if the question is related to Brick insurance product or to general insurance legislation.\n",
    "        Answer the user's question with a json response.\n",
    "        ----\n",
    "        Json structure:\n",
    "            - result: boolean (true if the question is related to Brick insurance product, false if it is related to general insurance legislation)\n",
    "        ----\n",
    "        Question: {question}\n",
    "    \"\"\"\n",
    "\n",
    "    prompt = ChatPromptTemplate.from_template(insurance_routing_message)\n",
    "\n",
    "    question_router = prompt | light_model | JsonOutputParser()\n",
    "\n",
    "    router = question_router.invoke({\"question\": state[\"question\"]})\n",
    "\n",
    "    if router[\"result\"]:\n",
    "        return \"brick\"\n",
    "    else:\n",
    "        return \"general\""
   ]
  },
  {
   "cell_type": "code",
   "execution_count": null,
   "metadata": {},
   "outputs": [],
   "source": [
    "from langchain.load import dumps, loads\n",
    "\n",
    "def reciprocal_rank_fusion(results: list[list], k=60):\n",
    "    \"\"\" Reciprocal_rank_fusion that takes multiple lists of ranked documents \n",
    "        and an optional parameter k used in the RRF formula \"\"\"\n",
    "    \n",
    "    # Initialize a dictionary to hold fused scores for each unique document\n",
    "    fused_scores = {}\n",
    "\n",
    "    # Iterate through each list of ranked documents\n",
    "    for docs in results:\n",
    "        # Iterate through each document in the list, with its rank (position in the list)\n",
    "        for rank, doc in enumerate(docs):\n",
    "            # Convert the document to a string format to use as a key (assumes documents can be serialized to JSON)\n",
    "            doc_str = dumps(doc)\n",
    "            # If the document is not yet in the fused_scores dictionary, add it with an initial score of 0\n",
    "            if doc_str not in fused_scores:\n",
    "                fused_scores[doc_str] = 0\n",
    "            # Retrieve the current score of the document, if any\n",
    "            previous_score = fused_scores[doc_str]\n",
    "            # Update the score of the document using the RRF formula: 1 / (rank + k)\n",
    "            fused_scores[doc_str] += 1 / (rank + k)\n",
    "\n",
    "    # Sort the documents based on their fused scores in descending order to get the final reranked results\n",
    "    reranked_results = [\n",
    "        (loads(doc), score)\n",
    "        for doc, score in sorted(fused_scores.items(), key=lambda x: x[1], reverse=True)\n",
    "    ]\n",
    "\n",
    "    # Return the reranked results as a list of tuples, each containing the document and its fused score\n",
    "    return reranked_results"
   ]
  },
  {
   "cell_type": "code",
   "execution_count": null,
   "metadata": {},
   "outputs": [],
   "source": [
    "### Defining the brick node\n",
    "\n",
    "from langchain_core.output_parsers import StrOutputParser\n",
    "from operator import itemgetter\n",
    "\n",
    "\n",
    "def brick_node(state):\n",
    "    # RAG-Fusion template\n",
    "    rag_fusion_template = \"\"\"You are a helpful assistant that generates multiple search queries based on a single input query. \\n\n",
    "    You work for a company called Brick Seguros - it helps fleet operators to manage their risks.\n",
    "    Generate multiple search queries related to: {question} \\n\n",
    "    Remember to be concise and clear. Be direct and to the point. \\n\n",
    "    Remember that they should be related to Brick Seguros Insurance product.\n",
    "    Output (3 queries):\"\"\"\n",
    "    prompt_rag_fusion = ChatPromptTemplate.from_template(rag_fusion_template)\n",
    "\n",
    "    custom_parser = StrOutputParser() | (lambda x: x.split(\"\\n\"))\n",
    "\n",
    "    generate_queries = (\n",
    "        prompt_rag_fusion \n",
    "        | light_model\n",
    "        | custom_parser ### This is a custom function that splits the output by new lines\n",
    "    )\n",
    "\n",
    "    retrieval_chain_rag_fusion = generate_queries | brick_insurance_retriever.map() | reciprocal_rank_fusion\n",
    "\n",
    "    brick_insurance_product_template = \"\"\"\n",
    "    Your name is Brick AI. \\n\n",
    "    You work for a company called Brick Seguros - it helps fleet operators to manage thir risks. \\n\n",
    "    You are here to help the user with his questions. \\n\n",
    "    You are an expert in the field of fleets. \\n\n",
    "    Answer the user's question as best as you can based on the context below. \\n\n",
    "    Be concise and clear. Be direct and to the point. \\n\n",
    "    Context: {context}\n",
    "    Question: {question}\n",
    "    \"\"\"\n",
    "\n",
    "    prompt = ChatPromptTemplate.from_template(brick_insurance_product_template)\n",
    "\n",
    "    final_rag_chain = (\n",
    "        {\"context\": retrieval_chain_rag_fusion, \n",
    "        \"question\": itemgetter(\"question\")} \n",
    "        | prompt\n",
    "        | light_model\n",
    "        | StrOutputParser()\n",
    "    )\n",
    "\n",
    "    res = final_rag_chain.invoke({\"question\": state[\"question\"] })\n",
    "\n",
    "    return  {\n",
    "        \"result\": res,\n",
    "        \"errors\": None,\n",
    "        \"question\": state[\"question\"]\n",
    "    }\n",
    "\n",
    "brick_node(InsuranceQuestionGraphState(question=\"Quais as coberturas do seu produto de seguro?\"))\n"
   ]
  },
  {
   "cell_type": "code",
   "execution_count": null,
   "metadata": {},
   "outputs": [],
   "source": [
    "### Defining the general node\n",
    "\n",
    "def general_node(state):\n",
    "    # RAG-Fusion template\n",
    "    rag_fusion_susep_template = \"\"\"You are a helpful assistant that generates multiple search queries based on a single input query. \\n\n",
    "    You work for a company called Brick Seguros - it helps fleet operators to manage their risks.\n",
    "    Generate multiple search queries related to: {question} \\n\n",
    "    Remember to be concise and clear. Be direct and to the point. \\n\n",
    "    Remember that they should be related to general insurance legislation.\n",
    "    Output (3 queries):\"\"\"\n",
    "    prompt_general_rf_template = ChatPromptTemplate.from_template(rag_fusion_susep_template)\n",
    "\n",
    "    custom_parser = StrOutputParser() | (lambda x: x.split(\"\\n\"))\n",
    "\n",
    "    susep_generate_queries = (\n",
    "        prompt_general_rf_template \n",
    "        | light_model\n",
    "        | custom_parser ### This is a custom function that splits the output by new lines\n",
    "    )\n",
    "\n",
    "    susep_chain = susep_generate_queries | brick_susep_retriever.map() | reciprocal_rank_fusion\n",
    "\n",
    "    susep_template = \"\"\"\n",
    "    Your name is Brick AI. \\n\n",
    "    You work for a company called Brick Seguros - it helps fleet operators to manage thir risks. \\n\n",
    "    You are here to help the user with his questions. \\n\n",
    "    You are an expert in the field of fleets. \\n\n",
    "    Answer the user's question as best as you can based on the context below. \\n\n",
    "    Be concise and clear. Be direct and to the point. \\n\n",
    "    Context: {context}\n",
    "    Question: {question}\n",
    "    \"\"\"\n",
    "\n",
    "    susep_prompt = ChatPromptTemplate.from_template(susep_template)\n",
    "\n",
    "    susep_rag_chain = (\n",
    "        {\n",
    "            \"context\": susep_chain, \n",
    "            \"question\": itemgetter(\"question\")\n",
    "        } \n",
    "        | susep_prompt\n",
    "        | light_model\n",
    "        | StrOutputParser()\n",
    "    )\n",
    "\n",
    "    res = susep_rag_chain.invoke({\"question\": state[\"question\"] })\n",
    "\n",
    "    return  {\n",
    "        \"result\": res,\n",
    "        \"errors\": None,\n",
    "        \"question\": state[\"question\"]\n",
    "    }"
   ]
  },
  {
   "cell_type": "code",
   "execution_count": null,
   "metadata": {},
   "outputs": [],
   "source": [
    "from IPython.display import Image\n",
    "\n",
    "### Defining the graph\n",
    "\n",
    "from langgraph.graph import END, StateGraph\n",
    "\n",
    "insurance_question_graph = StateGraph(InsuranceQuestionGraphState)\n",
    "\n",
    "insurance_question_graph.add_node(\"brick_node\", brick_node)\n",
    "insurance_question_graph.add_node(\"general_node\", general_node)\n",
    "\n",
    "insurance_question_graph.set_conditional_entry_point(\n",
    "    routing_node, \n",
    "    {\n",
    "        \"brick\": \"brick_node\",\n",
    "        \"general\": \"general_node\"\n",
    "    }\n",
    ")\n",
    "\n",
    "insurance_question_graph.add_edge(\"brick_node\", END)\n",
    "\n",
    "insurance_question_graph.add_edge(\"general_node\", END)\n",
    "\n",
    "insurance_question_graph_runnable = insurance_question_graph.compile()\n",
    "\n",
    "Image(insurance_question_graph_runnable.get_graph().draw_png())"
   ]
  },
  {
   "cell_type": "code",
   "execution_count": null,
   "metadata": {},
   "outputs": [],
   "source": [
    "### Creating the tool\n",
    "\n",
    "from langchain_core.tools import tool\n",
    "\n",
    "@tool\n",
    "def insurance_question_tool(\n",
    "    question: str\n",
    "):\n",
    "    \"\"\"\n",
    "        This tool retrieves answers for a questions about Insurance.\n",
    "    \"\"\"\n",
    "\n",
    "    try:\n",
    "        return insurance_question_graph_runnable.invoke({\n",
    "            \"question\": question\n",
    "        })\n",
    "    except Exception as error:\n",
    "        return str(error)\n",
    "\n",
    "insurance_question_tool(\"Quais as coberturas do seu produto de seguro?\")"
   ]
  },
  {
   "cell_type": "markdown",
   "metadata": {},
   "source": [
    "### Civil Code Search"
   ]
  },
  {
   "cell_type": "markdown",
   "metadata": {},
   "source": [
    "#### Retrieval and Generation"
   ]
  },
  {
   "cell_type": "markdown",
   "metadata": {},
   "source": [
    "<img src=\"./assets/rag-schema.jpeg\" alt=\"drawing\" style=\"width:800px;\"/>"
   ]
  },
  {
   "cell_type": "markdown",
   "metadata": {},
   "source": [
    "\n",
    "**CRAG**\n",
    "- Corrective RAG (Fallback)\n",
    "\n",
    "https://arxiv.org/pdf/2401.15884.pdf\n",
    "\n",
    "**Self-RAG**\n",
    "- Self Correction and Self Reflection\n",
    "\n",
    "https://arxiv.org/abs/2310.11511"
   ]
  },
  {
   "cell_type": "markdown",
   "metadata": {},
   "source": [
    "#### Implementation"
   ]
  },
  {
   "cell_type": "markdown",
   "metadata": {},
   "source": [
    "<img src=\"./assets/self-crag.jpeg\" alt=\"drawing\" style=\"width:800px;\"/>"
   ]
  },
  {
   "cell_type": "code",
   "execution_count": null,
   "metadata": {},
   "outputs": [],
   "source": [
    "### Create state\n",
    "\n",
    "from pydantic import BaseModel\n",
    "from typing import List, Optional, TypedDict\n",
    "\n",
    "class CivilCodeSearchGraphState(TypedDict):\n",
    "    # Input\n",
    "    question : str\n",
    "\n",
    "    # Internal\n",
    "    web_search : bool = False\n",
    "    documents : Optional[List[str]] = []\n",
    "\n",
    "    # Output\n",
    "    generation: Optional[str] = None"
   ]
  },
  {
   "cell_type": "code",
   "execution_count": null,
   "metadata": {},
   "outputs": [],
   "source": [
    "### Defining the routing node\n",
    "from langchain_core.output_parsers import JsonOutputParser\n",
    "from langchain_core.prompts import ChatPromptTemplate\n",
    "\n",
    "\n",
    "def civil_code_routing_node(state):\n",
    "    civil_code_routing_message = \"\"\"\n",
    "        You are an expert at routing a user question.\n",
    "        You work for a company called Brick Seguros - it helps fleet operators to manage their risks.\n",
    "        You are very knowledgeable about the brazilian civil code.\n",
    "        You are a specialist in identifying if the question is related to the brazilian civil code or not.\n",
    "        Answer the user's question with a json response.\n",
    "        ----\n",
    "        Json structure:\n",
    "            - result: boolean (true if the question is related to Brazilian civil code, false if it is not)\n",
    "        ----\n",
    "        Question: {question}\n",
    "    \"\"\"\n",
    "\n",
    "    prompt = ChatPromptTemplate.from_template(civil_code_routing_message)\n",
    "\n",
    "    question_router = prompt | light_model | JsonOutputParser()\n",
    "\n",
    "    router = question_router.invoke({\"question\": state[\"question\"]})\n",
    "\n",
    "    if router[\"result\"]:\n",
    "        return \"continue\"\n",
    "    else:\n",
    "        return \"fallback\""
   ]
  },
  {
   "cell_type": "code",
   "execution_count": null,
   "metadata": {},
   "outputs": [],
   "source": [
    "from langchain.load import dumps, loads\n",
    "\n",
    "def reciprocal_rank_fusion(results: list[list], k=60):\n",
    "    \"\"\" Reciprocal_rank_fusion that takes multiple lists of ranked documents \n",
    "        and an optional parameter k used in the RRF formula \"\"\"\n",
    "    \n",
    "    # Initialize a dictionary to hold fused scores for each unique document\n",
    "    fused_scores = {}\n",
    "\n",
    "    # Iterate through each list of ranked documents\n",
    "    for docs in results:\n",
    "        # Iterate through each document in the list, with its rank (position in the list)\n",
    "        for rank, doc in enumerate(docs):\n",
    "            # Convert the document to a string format to use as a key (assumes documents can be serialized to JSON)\n",
    "            doc_str = dumps(doc)\n",
    "            # If the document is not yet in the fused_scores dictionary, add it with an initial score of 0\n",
    "            if doc_str not in fused_scores:\n",
    "                fused_scores[doc_str] = 0\n",
    "            # Retrieve the current score of the document, if any\n",
    "            previous_score = fused_scores[doc_str]\n",
    "            # Update the score of the document using the RRF formula: 1 / (rank + k)\n",
    "            fused_scores[doc_str] += 1 / (rank + k)\n",
    "\n",
    "    # Sort the documents based on their fused scores in descending order to get the final reranked results\n",
    "    reranked_results = [\n",
    "        (loads(doc), score)\n",
    "        for doc, score in sorted(fused_scores.items(), key=lambda x: x[1], reverse=True)\n",
    "    ]\n",
    "\n",
    "    # Return the reranked results as a list of tuples, each containing the document and its fused score\n",
    "    return reranked_results\n",
    "\n",
    "# retriever_cc.map().invoke({\"question\": \"Quais os produtos da Brick?\"})"
   ]
  },
  {
   "cell_type": "code",
   "execution_count": null,
   "metadata": {},
   "outputs": [],
   "source": [
    "### Retriever node\n",
    "\n",
    "def civil_code_retriever_node(state):\n",
    "    # RAG-Fusion template\n",
    "    print(\"civil_code_retriever_node\")\n",
    "\n",
    "    question = state[\"question\"]\n",
    "\n",
    "    civil_code_rag_fusion_template = \"\"\"You are a helpful assistant that generates multiple search queries based on a single input query. \\n\n",
    "    You work for a company called Brick Seguros - it helps fleet operators to manage their risks.\n",
    "    Generate multiple search queries related to: {question} \\n\n",
    "    Remember to be concise and clear. Be direct and to the point. \\n\n",
    "    Remember that they should be related to Brazilian civil code.\n",
    "    Output (3 queries):\"\"\"\n",
    "    civil_code_prompt_rag_fusion = ChatPromptTemplate.from_template(civil_code_rag_fusion_template)\n",
    "\n",
    "    custom_parser = StrOutputParser() | (lambda x: x.split(\"\\n\"))\n",
    "\n",
    "    civil_code_generate_queries = (\n",
    "        civil_code_prompt_rag_fusion \n",
    "        | light_model\n",
    "        | custom_parser ### This is a custom function that splits the output by new lines\n",
    "    )\n",
    "\n",
    "    civil_code_chain_rag_fusion = civil_code_generate_queries | retriever_cc.map() | reciprocal_rank_fusion\n",
    "\n",
    "    ranked_docs = civil_code_chain_rag_fusion.invoke({\"question\": question})\n",
    "\n",
    "    return {\"documents\": ranked_docs, \"question\": question}\n",
    "\n",
    "### Doc grader node\n",
    "\n",
    "def civil_code_document_grader(state):\n",
    "    \"\"\"\n",
    "    Determines whether the retrieved documents are relevant to the question\n",
    "    If any document is not relevant, we will set a flag to run web search\n",
    "    Returns Filtered out irrelevant documents and updated web_search state\n",
    "    \"\"\"\n",
    "    \n",
    "    question = state[\"question\"]\n",
    "    documents = state[\"documents\"]\n",
    "\n",
    "\n",
    "    prompt = ChatPromptTemplate.from_messages(\n",
    "        [\n",
    "            (\"system\", \"\"\"\n",
    "                You are a grader assessing relevance of a retrieved document to a user question. \\n\n",
    "                If the document contains keywords related to the user question, grade it as relevant. \\n\n",
    "                It does not need to be a stringent test. The goal is to filter out erroneous retrievals. \\n\n",
    "                Give a binary score 'yes' or 'no' score to indicate whether the document is relevant to the question. \\n\n",
    "                Provide the binary score as a JSON with a single key 'score' and no premable or explaination.\n",
    "            \"\"\"),\n",
    "            (\"user\", \"\"\"\n",
    "                Here is the retrieved document: \\n\\n {document} \\n\\n\n",
    "                Here is the user question: {question}\n",
    "            \"\"\")\n",
    "        ]\n",
    "    )\n",
    "    \n",
    "    parser = JsonOutputParser()\n",
    "\n",
    "    chain = (\n",
    "        prompt\n",
    "        | light_model\n",
    "        | parser\n",
    "    )\n",
    "\n",
    "    # Score each doc\n",
    "    filtered_docs = []\n",
    "    web_search = False\n",
    "    for d in documents:\n",
    "        score = chain.invoke({\"question\": question, \"document\": d[0].page_content})\n",
    "        grade = score['score']\n",
    "        # Document relevant\n",
    "        \n",
    "        if grade.lower() == \"yes\":\n",
    "            filtered_docs.append(d)\n",
    "\n",
    "        # Document not relevant\n",
    "        else:\n",
    "            # We do not include the document in filtered_docs\n",
    "            # We set a flag to indicate that we want to run web search\n",
    "            web_search = True\n",
    "            continue\n",
    "    \n",
    "    return {\"documents\": filtered_docs, \"question\": question, \"web_search\": web_search}\n",
    "\n",
    "\n",
    "def decide_to_generate(state):\n",
    "    \"\"\"\n",
    "    Determines whether to generate an answer, or add web search\n",
    "    \"\"\"\n",
    "    if state[\"web_search\"] == True:\n",
    "        return \"websearch\"\n",
    "    else:\n",
    "        return \"generate\"\n",
    "    \n",
    "    \n",
    "docs = civil_code_retriever_node(CivilCodeSearchGraphState(question=\"O que é o código civil brasileiro?\"))\n",
    "docs = civil_code_retriever_node(CivilCodeSearchGraphState(question=\"De quem é a responsabilidade em uma colisão de veículos?\"))\n",
    "print(docs)\n",
    "grader_docs = civil_code_document_grader(CivilCodeSearchGraphState(docs))\n",
    "grader_docs"
   ]
  },
  {
   "cell_type": "code",
   "execution_count": null,
   "metadata": {},
   "outputs": [],
   "source": [
    "### Search\n",
    "# from langchain_community.tools.tavily_search import TavilySearchResults\n",
    "\n",
    "def civil_code_web_search(state):\n",
    "    \"\"\"\n",
    "    Web search based based on the question. Appended web results to documents\n",
    "    \"\"\"\n",
    "    question = state[\"question\"]\n",
    "    documents = state[\"documents\"]\n",
    "\n",
    "    ##### TO DO: Implement web search here #####\n",
    "    # web_search_tool = TavilySearchResults(k=3)\n",
    "\n",
    "    return {\"documents\": documents, \"question\": question, \"web_search\": False}\n",
    "\n",
    "## Generation\n",
    "def civil_code_generation(state):\n",
    "    question = state[\"question\"]\n",
    "    documents = state[\"documents\"]\n",
    "    \n",
    "    prompt = ChatPromptTemplate.from_messages(\n",
    "        [\n",
    "            (\"system\", \"\"\"\n",
    "                You are an assistant for question-answering tasks. \n",
    "                Use the following pieces of retrieved context to answer the question. If you don't know the answer, just say that you don't know. \n",
    "                Use three sentences maximum and keep the answer concise\n",
    "            \"\"\"),\n",
    "            (\"user\", \"\"\"\n",
    "                Question: {question} \n",
    "                Context: {context} \n",
    "                Answer:\n",
    "            \"\"\")\n",
    "        ]\n",
    "    )\n",
    "    \n",
    "    # Chain\n",
    "    rag_chain = prompt | light_model | StrOutputParser()\n",
    "\n",
    "    # RAG generation\n",
    "    generation = rag_chain.invoke({\"context\": documents, \"question\": question})\n",
    "    return {\"documents\": documents, \"question\": question, \"generation\": generation}"
   ]
  },
  {
   "cell_type": "code",
   "execution_count": null,
   "metadata": {},
   "outputs": [],
   "source": [
    "### Building the grader \n",
    "def grade_generation_v_documents_and_question(state):\n",
    "    \"\"\"\n",
    "    Determines whether the generation is grounded in the document and answers question.\n",
    "    \"\"\"\n",
    "    question = state[\"question\"]\n",
    "    documents = state[\"documents\"]\n",
    "    generation = state[\"generation\"]\n",
    "    \n",
    "    hallucination_prompt = ChatPromptTemplate.from_messages(\n",
    "        [\n",
    "            (\"system\", \"\"\"\n",
    "                You are a grader assessing whether an answer is grounded in a set of facts. \n",
    "                Give a binary score 'yes' or 'no' score to indicate whether the answer is grounded in a set of facts. \n",
    "                Provide the binary score as a JSON with a single key 'score' and no preamble or explanation.\n",
    "            \"\"\"),\n",
    "            (\"user\", \"\"\"\n",
    "                Here are the facts:\n",
    "                \\n ------- \\n\n",
    "                {documents} \n",
    "                \\n ------- \\n\n",
    "                Here is the answer: {generation}\n",
    "            \"\"\")\n",
    "        ]\n",
    "    )\n",
    "\n",
    "    hallucination_grader = hallucination_prompt | light_model | JsonOutputParser() \n",
    "\n",
    "    answer_grader_prompt = ChatPromptTemplate.from_messages(\n",
    "        [\n",
    "            (\"system\", \"\"\"\n",
    "                You are a grader assessing whether an answer is useful to resolve a question. \n",
    "                Give a binary score 'yes' or 'no' score to indicate whether the answer is useful to resolve a question. \n",
    "                Provide the binary score as a JSON with a single key 'score' and no preamble or explanation.\n",
    "            \"\"\"),\n",
    "            (\"user\", \"\"\"\n",
    "                Here is the answer:\n",
    "                \\n ------- \\n\n",
    "                {generation} \n",
    "                \\n ------- \\n\n",
    "                Here is the question: {question}\n",
    "            \"\"\")\n",
    "        ]\n",
    "    )\n",
    "\n",
    "    answer_grader = answer_grader_prompt | light_model | JsonOutputParser()\n",
    "\n",
    "    score = hallucination_grader.invoke({\"documents\": documents, \"generation\": generation})\n",
    "    grade = score['score']\n",
    "\n",
    "    # Check hallucination\n",
    "    if grade == \"yes\":\n",
    "        # Check question-answering\n",
    "        score = answer_grader.invoke({\"question\": question,\"generation\": generation})\n",
    "        grade = score['score']\n",
    "        if grade == \"yes\":\n",
    "            return \"useful\"\n",
    "        else:\n",
    "            return \"not useful\"\n",
    "    else:\n",
    "        return \"not supported\"\n",
    "\n",
    "\n",
    "# docs = civil_code_retriever_node(CivilCodeSearchGraphState(question=\"O que é o código civil brasileiro?\"))\n",
    "# docs = civil_code_retriever_node(CivilCodeSearchGraphState(question=\"De quem é a responsabilidade em uma colisão de veículos?\"))\n",
    "# print(docs)\n",
    "# grader_docs = civil_code_document_grader(docs)\n",
    "# grade_generation_v_documents_and_question(civil_code_generation(grader_docs))\n"
   ]
  },
  {
   "cell_type": "code",
   "execution_count": null,
   "metadata": {},
   "outputs": [],
   "source": [
    "from IPython.display import Image\n",
    "\n",
    "### Defining the graph\n",
    "\n",
    "\n",
    "from langgraph.graph import END, StateGraph\n",
    "\n",
    "civil_code_graph = StateGraph(CivilCodeSearchGraphState)\n",
    "\n",
    "civil_code_graph.add_node(\"civil_code_retriever_node\", civil_code_retriever_node)\n",
    "civil_code_graph.add_node(\"civil_code_document_grader\", civil_code_document_grader)\n",
    "civil_code_graph.add_node(\"civil_code_generation\", civil_code_generation)\n",
    "civil_code_graph.add_node(\"civil_code_web_search\", civil_code_web_search)\n",
    "\n",
    "civil_code_graph.add_edge(\"civil_code_retriever_node\", \"civil_code_document_grader\")\n",
    "civil_code_graph.add_edge(\"civil_code_web_search\", \"civil_code_generation\")\n",
    "\n",
    "civil_code_graph.add_conditional_edges(\"civil_code_document_grader\", decide_to_generate, {\"generate\": \"civil_code_generation\", \"websearch\": \"civil_code_web_search\"})\n",
    "civil_code_graph.add_conditional_edges(\"civil_code_generation\", grade_generation_v_documents_and_question, {\"useful\": END, \"not useful\": \"civil_code_web_search\", \"not supported\": \"civil_code_generation\"})\n",
    "\n",
    "civil_code_graph.set_conditional_entry_point(\n",
    "    civil_code_routing_node, \n",
    "    {\n",
    "        \"continue\": \"civil_code_retriever_node\",\n",
    "        \"fallback\": \"civil_code_web_search\"\n",
    "    }\n",
    ")\n",
    "\n",
    "civil_code_graph_runnable = civil_code_graph.compile()\n",
    "\n",
    "# Image(civil_code_graph_runnable.get_graph().draw_png())"
   ]
  },
  {
   "cell_type": "code",
   "execution_count": null,
   "metadata": {},
   "outputs": [],
   "source": [
    "### Creating the tool\n",
    "\n",
    "from langchain_core.tools import tool\n",
    "\n",
    "@tool\n",
    "def civil_code_tool(\n",
    "    question: str\n",
    "):\n",
    "    \"\"\"\n",
    "        This tool retrieves answers for a questions about Brazilian Civil Code.\n",
    "    \"\"\"\n",
    "\n",
    "    try:\n",
    "        return civil_code_graph_runnable.invoke({\"question\": question, \"web_search\": False})\n",
    "    except Exception as error:\n",
    "        return str(error)\n",
    "\n",
    "civil_code_tool(\"Quais os direitos do consumidor?\")"
   ]
  },
  {
   "cell_type": "markdown",
   "metadata": {},
   "source": [
    "### Database Query"
   ]
  },
  {
   "cell_type": "markdown",
   "metadata": {},
   "source": [
    "#### RAG with different Indexing and Query Construction"
   ]
  },
  {
   "cell_type": "markdown",
   "metadata": {},
   "source": [
    "<img src=\"./assets/rag-schema.jpeg\" alt=\"drawing\" style=\"width:800px;\"/>"
   ]
  },
  {
   "cell_type": "markdown",
   "metadata": {},
   "source": [
    "<img src=\"./assets/sql.jpeg\" alt=\"drawing\" style=\"width:800px;\"/>"
   ]
  },
  {
   "cell_type": "markdown",
   "metadata": {},
   "source": [
    "### Claims"
   ]
  },
  {
   "cell_type": "code",
   "execution_count": null,
   "metadata": {},
   "outputs": [],
   "source": [
    "from pydantic import BaseModel\n",
    "from typing import Optional, List, TypedDict\n",
    "insured_vehicles={\n",
    "   'ABL6I88':{'doc':'12345678912','covergaes':['THEFT','CRASH']},\n",
    "   'RHV1C98':{'doc':'73658918371','covergaes':['THIRD_PARTY_DAMAGE','THIRD_PARTY_INJURY']},\n",
    "   'GCC7J84':{'doc':'99888473655563','covergaes':['THIRD_PARTY_DAMAGE','THIRD_PARTY_INJURY']},\n",
    "   'ACS4D96':{'doc':'43667636000102','covergaes':['THEFT','CRASH','THIRD_PARTY_DAMAGE','THIRD_PARTY_INJURY']},\n",
    "   'ACS3H04':{'doc':'43667636000102','covergaes':['THEFT','CRASH','THIRD_PARTY_DAMAGE','THIRD_PARTY_INJURY']}\n",
    "}\n",
    "class CreatClaimGraphResult(BaseModel):\n",
    "   claim_id: str\n",
    "   claim_due_days: int\n",
    "class CreateClaimGraphState(TypedDict):\n",
    "   # Input\n",
    "   plate: str\n",
    "   document: str\n",
    "   claim_type: str\n",
    "   claim_address: str\n",
    "   claim_description: str\n",
    "   claim_date: str\n",
    "   # Internal\n",
    "   tries: Optional[int] = 0\n",
    "   errors: List[str] = []\n",
    "   # Output\n",
    "   result: Optional[CreatClaimGraphResult] = None"
   ]
  },
  {
   "cell_type": "code",
   "execution_count": null,
   "metadata": {},
   "outputs": [],
   "source": [
    "# Verification functions\n",
    "import re\n",
    "from langgraph.graph import END, StateGraph\n",
    "from datetime import datetime,timedelta\n",
    "from PIL import Image\n",
    "date_re=re.compile(r'\\d{4}-\\d{2}-\\d{2}')\n",
    "claims=[]\n",
    "## INPUTS\n",
    "def verify_input(state):\n",
    "    if not state['plate']:\n",
    "        state['errors'].append('Plate is required')\n",
    "    else:\n",
    "        state['plate']=state['plate'].upper().replace('-','').replace(' ','')\n",
    "    if not state['document']:\n",
    "        state['errors'].append('document is required')\n",
    "    else:\n",
    "        state['document']=state['document'].replace('.','').replace('-','').replace('/','').replace(' ','')\n",
    "    if not state['claim_type']:\n",
    "        state['errors'].append('Claim Type is required')\n",
    "    if state['claim_type'] not in ['THEFT','CRASH','THIRD_PARTY_DAMAGE','THIRD_PARTY_INJURY']:\n",
    "        state['errors'].append('Claim Type must be one of THEFT, CRASH, THIRD_PARTY_DAMAGE, THIRD_PARTY_INJURY')\n",
    "    if not state['claim_address']:\n",
    "        state['errors'].append('Claim Address is required')\n",
    "    if not state['claim_description']:\n",
    "        state['errors'].append('Claim Description is required')\n",
    "    if not state['claim_date']:\n",
    "        state['errors'].append('Claim Date is required')\n",
    "    if not date_re.match(state['claim_date']):\n",
    "        state['errors'].append('Claim Date must be in the format YYYY-MM-DD')\n",
    "    return state\n",
    "def has_input_errors(state):\n",
    "    if(len(state.get(\"errors\")) > 0):\n",
    "        return \"end\"\n",
    "    else:\n",
    "        return \"continue\"\n",
    "## Coverages\n",
    "def verify_vehicle_and_coverage(state):\n",
    "    if state['plate'] not in insured_vehicles:\n",
    "        state['errors'].append('Vehicle not insured')\n",
    "        return state\n",
    "    if insured_vehicles[state['plate']]['doc']!=state['document']:\n",
    "        state['errors'].append('Document does not match vehicle')\n",
    "    if state['claim_type'] not in insured_vehicles[state['plate']]['covergaes']:\n",
    "        state['errors'].append('Claim Type not covered')\n",
    "    return state\n",
    "def has_vehicle_errors(state):\n",
    "    if(len(state.get(\"errors\")) > 0):\n",
    "        return \"end\"\n",
    "    else:\n",
    "        return \"continue\"\n",
    "## Claim\n",
    "def create_claim(state):\n",
    "    if state['claim_type']=='THEFT':\n",
    "        days=45\n",
    "    elif state['claim_type']=='CRASH':\n",
    "        days=30\n",
    "    else:\n",
    "        days=20\n",
    "    state['result']=CreatClaimGraphResult(claim_id='2024'+str(uuid.uuid4().int)[:13],claim_due_days=days)\n",
    "    claims.append(\n",
    "        {\n",
    "            'claim_id':state['result'].claim_id,\n",
    "            'plate':state['plate'],\n",
    "            'document':state['document'],\n",
    "            'claim_type':state['claim_type'],\n",
    "            'claim_address':state['claim_address'],\n",
    "            'claim_description':state['claim_description'],\n",
    "            'claim_date':state['claim_date'],\n",
    "            'claim_due':datetime.now() + timedelta(days=days),\n",
    "            'claim_status':'OPENED'\n",
    "        }\n",
    "    )\n",
    "    return state\n",
    "#define graph\n",
    "create_claim_graph = StateGraph(CreateClaimGraphState)\n",
    "create_claim_graph.add_node(\"verify_input\", verify_input)\n",
    "create_claim_graph.add_node(\"verify_vehicle_coverage\", verify_vehicle_and_coverage)\n",
    "create_claim_graph.add_node(\"create_claim\", create_claim)\n",
    "create_claim_graph.add_conditional_edges(\"verify_input\", has_input_errors, {\n",
    "    \"end\": END,\n",
    "    \"continue\": \"verify_vehicle_coverage\"\n",
    "})\n",
    "create_claim_graph.add_conditional_edges(\"verify_vehicle_coverage\", has_vehicle_errors, {\n",
    "    \"end\": END,\n",
    "    \"continue\": \"create_claim\"\n",
    "})\n",
    "create_claim_graph.set_entry_point(\"verify_input\")\n",
    "create_claim_graph.add_edge(\"create_claim\", END)\n",
    "create_claim_graph_runnable = create_claim_graph.compile()"
   ]
  },
  {
   "cell_type": "code",
   "execution_count": null,
   "metadata": {},
   "outputs": [],
   "source": [
    "## CREATE THE TOOL\n",
    "from enum import Enum\n",
    "class EntityTypeEnum(str, Enum):\n",
    "    THEFT = 'THEFT'\n",
    "    CRASH = 'CRASH'\n",
    "    THIRD_PARTY_DAMAGE = 'THIRD_PARTY_DAMAGE'\n",
    "    THIRD_PARTY_INJURY = 'THIRD_PARTY_INJURY'\n",
    "\n",
    "@tool\n",
    "def create_claim_tool(\n",
    "   plate: str,\n",
    "   document: str,\n",
    "   claim_type: EntityTypeEnum,\n",
    "   claim_address: str,\n",
    "   claim_description: str,\n",
    "   claim_date: str\n",
    "):\n",
    "    \"\"\"\n",
    "        This tool creates a claim.\n",
    "        If you do not receive one of the required parameters, you must ask for it.\n",
    "        If you can infer the claim type from description, use it\n",
    "        Claims types must be one of THEFT, CRASH, THIRD_PARTY_DAMAGE, THIRD_PARTY_INJURY\n",
    "    \"\"\"\n",
    "    try:\n",
    "        return create_claim_graph_runnable.invoke({\n",
    "            'plate': plate,\n",
    "            'document': document,\n",
    "            'claim_type': claim_type,\n",
    "            'claim_address': claim_address,\n",
    "            'claim_description': claim_description,\n",
    "            'claim_date': claim_date,\n",
    "            \"tries\": 0,\n",
    "            'errors':[]\n",
    "        })\n",
    "    except Exception as error:\n",
    "        return str(error)\n",
    "\n",
    "@tool\n",
    "def verify_claim_status(\n",
    "   query_value: str,\n",
    "   query_key: str,\n",
    "):\n",
    "    \"\"\"\n",
    "        This tool verifies the status of a claim.\n",
    "        the supported values for query_key are: 'claim_id', 'plate', 'document'\n",
    "    \"\"\"\n",
    "    try:\n",
    "        if query_key not in ['claim_id','plate','document']:\n",
    "            return 'Invalid query key'\n",
    "        for item in claims:\n",
    "            if item[query_key]==query_value:\n",
    "                return item\n",
    "        return 'Cliam not found'\n",
    "    except Exception as error:\n",
    "        return str(error)"
   ]
  },
  {
   "cell_type": "markdown",
   "metadata": {},
   "source": [
    "## Initializing the Agent"
   ]
  },
  {
   "cell_type": "markdown",
   "metadata": {},
   "source": [
    "Creating the executor"
   ]
  },
  {
   "cell_type": "code",
   "execution_count": 41,
   "metadata": {},
   "outputs": [
    {
     "name": "stderr",
     "output_type": "stream",
     "text": [
      "/Library/Frameworks/Python.framework/Versions/3.12/lib/python3.12/site-packages/langchain_core/_api/deprecation.py:117: LangChainDeprecationWarning: The class `langchain.agents.structured_chat.base.StructuredChatAgent` was deprecated in langchain 0.1.0 and will be removed in 0.2.0. Use create_structured_chat_agent instead.\n",
      "  warn_deprecated(\n"
     ]
    }
   ],
   "source": [
    "from langchain.callbacks.base import BaseCallbackHandler\n",
    "from langchain.chains import LLMChain\n",
    "from langchain_core.output_parsers import StrOutputParser\n",
    "from langchain.memory import ConversationBufferMemory\n",
    "from langchain.agents import AgentExecutor, load_tools, StructuredChatAgent\n",
    "\n",
    "loaded_tools = load_tools([\"wikipedia\", \"serpapi\", \"llm-math\"], from_llm=light_model, llm=light_model)\n",
    "tools = [\n",
    "    loaded_tools[0],\n",
    "    loaded_tools[1],\n",
    "    loaded_tools[2],\n",
    "    read_txt_file,\n",
    "    read_docx_file,\n",
    "    read_pdf_file,\n",
    "    read_md_file,\n",
    "    read_html_file,\n",
    "    read_json_file,\n",
    "    # plot_bar_chart,\n",
    "    # plot_line_chart,\n",
    "    # brick_internal_rag_tool,\n",
    "    # insurance_question_tool,\n",
    "    # civil_code_tool\n",
    "    # create_claim_tool,\n",
    "    # verify_claim_status\n",
    "]\n",
    "\n",
    "prefix = \"\"\"\n",
    "Your name is Toninho.\n",
    "You work for a company called Brick Seguros - it helps fleet operators to manage thir risks.\n",
    "You are a customer support agent. \n",
    "You are here to help the user with his questions.\n",
    "You are an expert in the field of fleets and drivers onboarding.\n",
    "Have a conversation with a human answering his questions as best you can. \n",
    "Keep him engaged and interested in the conversation.\n",
    "Start by introducing yourself and ask the user for his questions.\n",
    "Be polite and professional. Always try to be helpful.\n",
    "You are allowed to ask questions if you need more information.\n",
    "Always analyze the result of the tools you use.\n",
    "If you don't know a variable needed for a tool, ask the user.\n",
    "\"\"\"\n",
    "\n",
    "suffix = \"\"\"\n",
    "Action Input can be nullable eventually.\n",
    "Begin!\"\n",
    "\n",
    "{chat_history}\n",
    "Question: {input}\n",
    "{agent_scratchpad}\"\"\"\n",
    "\n",
    "prompt = StructuredChatAgent.create_prompt(\n",
    "    tools,\n",
    "    prefix=prefix,\n",
    "    suffix=suffix,\n",
    "    input_variables=[\"input\", \"chat_history\", \"agent_scratchpad\"],   \n",
    ")\n",
    "\n",
    "llm_base_chain = LLMChain(llm=powerful_model, prompt=prompt)\n",
    "\n",
    "agent = StructuredChatAgent(llm_chain=llm_base_chain, tools=tools, verbose=True)\n",
    "\n",
    "agent_executor = AgentExecutor.from_agent_and_tools(\n",
    "    agent=agent, \n",
    "    tools=tools, \n",
    "    verbose=True, \n",
    "    memory=chat_history,\n",
    "    handle_parsing_errors=True,\n",
    ")\n",
    "\n"
   ]
  },
  {
   "cell_type": "code",
   "execution_count": 42,
   "metadata": {},
   "outputs": [
    {
     "data": {
      "text/plain": [
       "[WikipediaQueryRun(api_wrapper=WikipediaAPIWrapper(wiki_client=<module 'wikipedia' from '/Library/Frameworks/Python.framework/Versions/3.12/lib/python3.12/site-packages/wikipedia/__init__.py'>, top_k_results=3, lang='en', load_all_available_meta=False, doc_content_chars_max=4000)),\n",
       " Tool(name='Search', description='A search engine. Useful for when you need to answer questions about current events. Input should be a search query.', func=<bound method SerpAPIWrapper.run of SerpAPIWrapper(search_engine=<class 'serpapi.google_search.GoogleSearch'>, params={'engine': 'google', 'google_domain': 'google.com', 'gl': 'us', 'hl': 'en'}, serpapi_api_key='945c0fb7d5eccde352ecffdaf8e152cd51ee22ae2b6ff92dba194dbb3a855378', aiosession=None)>, coroutine=<bound method SerpAPIWrapper.arun of SerpAPIWrapper(search_engine=<class 'serpapi.google_search.GoogleSearch'>, params={'engine': 'google', 'google_domain': 'google.com', 'gl': 'us', 'hl': 'en'}, serpapi_api_key='945c0fb7d5eccde352ecffdaf8e152cd51ee22ae2b6ff92dba194dbb3a855378', aiosession=None)>),\n",
       " Tool(name='Calculator', description='Useful for when you need to answer questions about math.', func=<bound method Chain.run of LLMMathChain(llm_chain=LLMChain(prompt=PromptTemplate(input_variables=['question'], template='Translate a math problem into a expression that can be executed using Python\\'s numexpr library. Use the output of running this code to answer the question.\\n\\nQuestion: ${{Question with math problem.}}\\n```text\\n${{single line mathematical expression that solves the problem}}\\n```\\n...numexpr.evaluate(text)...\\n```output\\n${{Output of running the code}}\\n```\\nAnswer: ${{Answer}}\\n\\nBegin.\\n\\nQuestion: What is 37593 * 67?\\n```text\\n37593 * 67\\n```\\n...numexpr.evaluate(\"37593 * 67\")...\\n```output\\n2518731\\n```\\nAnswer: 2518731\\n\\nQuestion: 37593^(1/5)\\n```text\\n37593**(1/5)\\n```\\n...numexpr.evaluate(\"37593**(1/5)\")...\\n```output\\n8.222831614237718\\n```\\nAnswer: 8.222831614237718\\n\\nQuestion: {question}\\n'), llm=ChatOpenAI(verbose=True, client=<openai.resources.chat.completions.Completions object at 0x15e24cc50>, async_client=<openai.resources.chat.completions.AsyncCompletions object at 0x15e84d550>, temperature=0.0, openai_api_key=SecretStr('**********'), openai_proxy='')))>, coroutine=<bound method Chain.arun of LLMMathChain(llm_chain=LLMChain(prompt=PromptTemplate(input_variables=['question'], template='Translate a math problem into a expression that can be executed using Python\\'s numexpr library. Use the output of running this code to answer the question.\\n\\nQuestion: ${{Question with math problem.}}\\n```text\\n${{single line mathematical expression that solves the problem}}\\n```\\n...numexpr.evaluate(text)...\\n```output\\n${{Output of running the code}}\\n```\\nAnswer: ${{Answer}}\\n\\nBegin.\\n\\nQuestion: What is 37593 * 67?\\n```text\\n37593 * 67\\n```\\n...numexpr.evaluate(\"37593 * 67\")...\\n```output\\n2518731\\n```\\nAnswer: 2518731\\n\\nQuestion: 37593^(1/5)\\n```text\\n37593**(1/5)\\n```\\n...numexpr.evaluate(\"37593**(1/5)\")...\\n```output\\n8.222831614237718\\n```\\nAnswer: 8.222831614237718\\n\\nQuestion: {question}\\n'), llm=ChatOpenAI(verbose=True, client=<openai.resources.chat.completions.Completions object at 0x15e24cc50>, async_client=<openai.resources.chat.completions.AsyncCompletions object at 0x15e84d550>, temperature=0.0, openai_api_key=SecretStr('**********'), openai_proxy='')))>),\n",
       " StructuredTool(name='read_txt_file', description='read_txt_file(file: str) - This tool reads a text file and returns its content.\\n        It receives the file path as input.', args_schema=<class 'pydantic.v1.main.read_txt_fileSchema'>, func=<function read_txt_file at 0x13f29b6a0>),\n",
       " StructuredTool(name='read_docx_file', description='read_docx_file(file) - This tool reads a docx file and returns its content.\\n        It receives the file path as input.', args_schema=<class 'pydantic.v1.main.read_docx_fileSchema'>, func=<function read_docx_file at 0x13f29b060>),\n",
       " StructuredTool(name='read_pdf_file', description='read_pdf_file(file) - This tool reads a pdf file and returns its content.\\n        It receives the file path as input.', args_schema=<class 'pydantic.v1.main.read_pdf_fileSchema'>, func=<function read_pdf_file at 0x13f29b100>),\n",
       " StructuredTool(name='read_md_file', description='read_md_file(file) - This tool reads a markdown file and returns its content.\\n        It receives the file path as input.', args_schema=<class 'pydantic.v1.main.read_md_fileSchema'>, func=<function read_md_file at 0x16a02a020>),\n",
       " StructuredTool(name='read_html_file', description='read_html_file(file) - This tool reads a html file and returns its content.\\n        It receives the file path as input.', args_schema=<class 'pydantic.v1.main.read_html_fileSchema'>, func=<function read_html_file at 0x16a02aac0>),\n",
       " StructuredTool(name='read_json_file', description='read_json_file(file) - This tool reads a json file and returns its content.\\n        It receives the file path as input.', args_schema=<class 'pydantic.v1.main.read_json_fileSchema'>, func=<function read_json_file at 0x16a02a200>)]"
      ]
     },
     "execution_count": 42,
     "metadata": {},
     "output_type": "execute_result"
    }
   ],
   "source": [
    "agent_executor.tools"
   ]
  },
  {
   "cell_type": "code",
   "execution_count": null,
   "metadata": {},
   "outputs": [],
   "source": [
    "agent.llm_chain.prompt"
   ]
  },
  {
   "cell_type": "markdown",
   "metadata": {},
   "source": [
    "**SYSTEM PROMPT**\n",
    "\n",
    "Your name is Toninho.\n",
    "\n",
    "You work for a company called Brick Seguros - it helps fleet operators to manage thir risks. \n",
    "\n",
    "You are a customer support agent. \n",
    "\n",
    "You are here to help the user with his questions.\n",
    "\n",
    "You are an expert in the field of fleets and drivers onboarding.\n",
    "\n",
    "Have a conversation with a human answering his questions as best you can. \n",
    "\n",
    "Keep him engaged and interested in the conversation.\n",
    "\n",
    "Start by introducing yourself and ask the user for his questions.\n",
    "\n",
    "Be polite and professional. Always try to be helpful.\n",
    "\n",
    "You are allowed to ask questions if you need more information.\n",
    "Always analyze the result of the tools you use.\n",
    "If you don\\'t know a variable needed for a tool, ask the user.\n",
    "\n",
    "\n",
    "Use a json blob to specify a tool by providing an action key (tool name) and an action_input key (tool input).\n",
    "\n",
    "Valid \"action\" values: \"Final Answer\" or \n",
    "\n",
    "Provide only ONE action per $JSON_BLOB, as shown:\n",
    "\n",
    "```\n",
    "{{\n",
    "    \"action\": $TOOL_NAME,\n",
    "    \"action_input\": $INPUT\n",
    "}}\n",
    "```\n",
    "\n",
    "Follow this format:\n",
    "\n",
    "Question: input question to answer\n",
    "Thought: consider previous and subsequent steps\n",
    "Action:\n",
    "```\n",
    "$JSON_BLOB\n",
    "```\n",
    "Observation: action result\n",
    "... (repeat Thought/Action/Observation N times)\n",
    "Thought: I know what to respond\n",
    "Action:\n",
    "```\n",
    "{{\n",
    "    \"action\": \"Final Answer\",\n",
    "    \"action_input\": \"Final response to human\"\n",
    "}}\n",
    "```\n",
    "\n",
    "\n",
    "Action Input can be nullable eventually.\n",
    "Begin!\"\n",
    "\n",
    "{chat_history}\n",
    "\n",
    "Question: {input}\n",
    "\n",
    "{agent_scratchpad}"
   ]
  },
  {
   "cell_type": "markdown",
   "metadata": {},
   "source": [
    "Creating our Class"
   ]
  },
  {
   "cell_type": "code",
   "execution_count": 43,
   "metadata": {},
   "outputs": [],
   "source": [
    "from langchain_core.prompts import ChatPromptTemplate\n",
    "\n",
    "def translate_to_portuguese(text):\n",
    "    \"\"\"This function translates a text to portuguese\"\"\"\n",
    "    prompt = ChatPromptTemplate.from_messages(\n",
    "       (\"user\", \"\"\"\n",
    "            Traduza o seguinte texto para o português:{text}.\n",
    "            Não de introdução e conclusão.\n",
    "            Apenas retorne o texto traduzido.\n",
    "            Não retorne o texot em inglês.\n",
    "            \"\"\"),\n",
    "    )\n",
    "    chain = (\n",
    "        prompt |\n",
    "        light_model\n",
    "    )\n",
    "    res = chain.invoke({\"text\": text})\n",
    "    return res\n",
    "\n",
    "class BrickAi:\n",
    "    def __init__(self, agent_executor):\n",
    "        self.agent_executor = agent_executor\n",
    "\n",
    "    def run(self, input):\n",
    "        try:\n",
    "            content = self.agent_executor.invoke(input)\n",
    "            res = translate_to_portuguese(str(content))\n",
    "            \n",
    "            return res.content\n",
    "        except Exception as error:\n",
    "            return {\"error\": str(error)}\n",
    "\n",
    "brickAi = BrickAi(agent_executor)"
   ]
  },
  {
   "cell_type": "markdown",
   "metadata": {},
   "source": [
    "## Exec"
   ]
  },
  {
   "cell_type": "code",
   "execution_count": 45,
   "metadata": {},
   "outputs": [
    {
     "name": "stdout",
     "output_type": "stream",
     "text": [
      "\n",
      "\n",
      "\u001b[1m> Entering new AgentExecutor chain...\u001b[0m\n",
      "\u001b[32;1m\u001b[1;3mLuxemburgo é uma monarquia constitucional e não tem um presidente. O chefe de estado é o Grão-Duque, e o atual Grão-Duque de Luxemburgo é Henri, que assumiu o cargo em 7 de outubro de 2000. Se precisar de mais informações ou tiver outras perguntas, estou à disposição!\u001b[0m\n",
      "\n",
      "\u001b[1m> Finished chain.\u001b[0m\n"
     ]
    },
    {
     "data": {
      "text/plain": [
       "'Luxemburgo é uma monarquia constitucional e não tem um presidente. O chefe de estado é o Grão-Duque, e o atual Grão-Duque de Luxemburgo é Henri, que assumiu o cargo em 7 de outubro de 2000. Se precisar de mais informações ou tiver outras perguntas, estou à disposição!'"
      ]
     },
     "execution_count": 45,
     "metadata": {},
     "output_type": "execute_result"
    }
   ],
   "source": [
    "# brickAi.run(\"Oi\")\n",
    "\n",
    "# brickAi.run('Quem foi Julio Cesar?')\n",
    "\n",
    "brickAi.run(\"Qual o presidente de Luxemburgo?\")\n",
    "\n",
    "\n",
    "# light_model.invoke(\"Qual a tanh de 0.3543?\")\n",
    "# brickAi.run(\"Qual a tanh de 0.3543?\") ### 0.34018347444084"
   ]
  },
  {
   "cell_type": "code",
   "execution_count": 47,
   "metadata": {},
   "outputs": [
    {
     "name": "stdout",
     "output_type": "stream",
     "text": [
      "\n",
      "\n",
      "\u001b[1m> Entering new AgentExecutor chain...\u001b[0m\n",
      "\u001b[32;1m\u001b[1;3mVou verificar o conteúdo do arquivo `./files/inputs.txt` para você. Um momento, por favor.\n",
      "\n",
      "```json\n",
      "{\n",
      "  \"action\": \"read_txt_file\",\n",
      "  \"action_input\": {\n",
      "    \"file\": \"./files/inputs.txt\"\n",
      "  }\n",
      "}\n",
      "```\u001b[0m\n",
      "Observation: \u001b[36;1m\u001b[1;3m{'content': '\\nLocadora XPTY - Forms\\n\\nFormulário para Cadastro de motoristas do vendedor Guilherme \\n\\nCor: #00FF00\\nEntidade: PF', 'error': None, 'file': './files/inputs.txt'}\u001b[0m\n",
      "Thought:\u001b[32;1m\u001b[1;3mO arquivo `./files/inputs.txt` contém informações relacionadas a um formulário de cadastro de motoristas para a Locadora XPTY. Aqui estão os detalhes presentes no arquivo:\n",
      "\n",
      "- **Nome da Locadora:** Locadora XPTY - Forms\n",
      "- **Descrição:** Formulário para Cadastro de motoristas do vendedor Guilherme\n",
      "- **Cor:** #00FF00\n",
      "- **Entidade:** Pessoa Física (PF)\n",
      "\n",
      "Se precisar de mais informações ou tiver outras perguntas, estou à disposição para ajudar!\u001b[0m\n",
      "\n",
      "\u001b[1m> Finished chain.\u001b[0m\n"
     ]
    },
    {
     "data": {
      "text/plain": [
       "'O arquivo `./files/inputs.txt` contém informações relacionadas a um formulário de cadastro de motoristas para a Locadora XPTY. Aqui estão os detalhes presentes no arquivo:\\n\\n- **Nome da Locadora:** Locadora XPTY - Forms\\n- **Descrição:** Formulário para Cadastro de motoristas do vendedor Guilherme\\n- **Cor:** #00FF00\\n- **Entidade:** Pessoa Física (PF)'"
      ]
     },
     "execution_count": 47,
     "metadata": {},
     "output_type": "execute_result"
    }
   ],
   "source": [
    "# brickAi.run(\"Qual o conteúdo do arquivo ./inputs.txt\")\n",
    "brickAi.run(\"Qual o conteúdo do arquivo ./files/inputs.txt\")"
   ]
  },
  {
   "cell_type": "code",
   "execution_count": null,
   "metadata": {},
   "outputs": [],
   "source": [
    "# brickAi.run(\"Gere um gráfico de barras dos preços dos carros do arquivo ./files/plates.json\")\n",
    "brickAi.run(\"Gere um gráfico de linhas dos preços dos carros do arquivo ./files/plates.json\")\n"
   ]
  },
  {
   "cell_type": "markdown",
   "metadata": {},
   "source": [
    "## References\n"
   ]
  },
  {
   "cell_type": "markdown",
   "metadata": {},
   "source": [
    "\n",
    "Attention is all you need - https://arxiv.org/pdf/1706.03762.pdf\n",
    "\n",
    "RAG Fusion - https://towardsdatascience.com/forget-rag-the-future-is-rag-fusion-1147298d8ad1\n",
    "\n",
    "Adaptative RAG - https://arxiv.org/abs/2403.14403\n",
    "\n",
    "Corrective RAG - https://arxiv.org/pdf/2401.15884.pdf\n",
    "\n",
    "Self RAG - https://arxiv.org/abs/2310.11511\n",
    "\n",
    "RAG From Scratch - https://github.com/langchain-ai/rag-from-scratch"
   ]
  }
 ],
 "metadata": {
  "kernelspec": {
   "display_name": "Python 3",
   "language": "python",
   "name": "python3"
  },
  "language_info": {
   "codemirror_mode": {
    "name": "ipython",
    "version": 3
   },
   "file_extension": ".py",
   "mimetype": "text/x-python",
   "name": "python",
   "nbconvert_exporter": "python",
   "pygments_lexer": "ipython3",
   "version": "3.12.2"
  }
 },
 "nbformat": 4,
 "nbformat_minor": 2
}
