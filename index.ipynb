{
 "cells": [
  {
   "cell_type": "markdown",
   "metadata": {},
   "source": [
    "## Introduction"
   ]
  },
  {
   "cell_type": "markdown",
   "metadata": {},
   "source": [
    "<img src=\"./assets/agent-definition.jpeg\" alt=\"drawing\" style=\"width:1000px;\"/>\n"
   ]
  },
  {
   "cell_type": "markdown",
   "metadata": {},
   "source": [
    "## Why LLMs Hallucinate"
   ]
  },
  {
   "cell_type": "markdown",
   "metadata": {},
   "source": [
    "<img src=\"./assets/Halluc.png\" alt=\"drawing\" style=\"width:1000px;\"/>"
   ]
  },
  {
   "cell_type": "markdown",
   "metadata": {},
   "source": [
    "### Practical Example"
   ]
  },
  {
   "cell_type": "code",
   "execution_count": 5,
   "metadata": {},
   "outputs": [],
   "source": [
    "import numpy as np\n",
    "import matplotlib.pyplot as plt"
   ]
  },
  {
   "cell_type": "code",
   "execution_count": 6,
   "metadata": {},
   "outputs": [],
   "source": [
    "def sigmoid(X):\n",
    "   return 1/(1+np.exp(-X))\n",
    "class VanillaRNN():\n",
    "  def __init__(self,size=8):\n",
    "    # define size x size vector\n",
    "    self.size=size\n",
    "    self.memory_states=[]\n",
    "    self.weigths=np.zeros((size*size,size*size))\n",
    "\n",
    "  def set_memory_state(self,state):\n",
    "    self.memory_states.append(state)\n",
    "\n",
    "  def print_memory_states(self):\n",
    "    total_memory=len(self.memory_states)\n",
    "    fig, axs = plt.subplots(nrows=total_memory, ncols=1, figsize=(8, 6))\n",
    "    for ax, memory_state in zip(axs, self.memory_states):\n",
    "      vector_square=memory_state.reshape(self.size,self.size)\n",
    "      ax.imshow(vector_square, cmap='gray')\n",
    "    fig.show()\n",
    "\n",
    "  def hebbian_learning(self):\n",
    "    for m in self.memory_states:\n",
    "        print('State Learned')\n",
    "        m = np.where(m == 0, -1, m)\n",
    "        outer_product = np.outer(m, m)\n",
    "        np.fill_diagonal(outer_product, 0)\n",
    "\n",
    "        self.weigths += outer_product\n",
    "    self.weigths /= len(self.memory_states)\n",
    "\n",
    "  @staticmethod\n",
    "  def update_state(W, state):\n",
    "    size = state.size\n",
    "    new_state = state.copy()\n",
    "    for i in range(size):\n",
    "        weighted_sum = np.dot(W[i, :], state)\n",
    "        new_state[i] = 1 if weighted_sum > 0 else -1\n",
    "    return new_state\n",
    "\n",
    "  def recall(self,initial_state):\n",
    "    current_state = initial_state\n",
    "    i=0\n",
    "    while True:\n",
    "        i+=1\n",
    "        next_state = self.update_state(self.weigths, current_state)\n",
    "        if np.array_equal(next_state, current_state):\n",
    "            print('Convergence reached in',i,'iterations')\n",
    "            break  # Convergence reached\n",
    "        current_state = next_state\n",
    "    return current_state"
   ]
  },
  {
   "cell_type": "code",
   "execution_count": 7,
   "metadata": {},
   "outputs": [
    {
     "name": "stdout",
     "output_type": "stream",
     "text": [
      "State Learned\n",
      "State Learned\n",
      "State Learned\n"
     ]
    },
    {
     "name": "stderr",
     "output_type": "stream",
     "text": [
      "/var/folders/sb/s7s67brs7q386w68p13yv1sh0000gn/T/ipykernel_416/3911467420.py:19: UserWarning: Matplotlib is currently using module://matplotlib_inline.backend_inline, which is a non-GUI backend, so cannot show the figure.\n",
      "  fig.show()\n"
     ]
    },
    {
     "data": {
      "image/png": "[encoded data removed]",
      "text/plain": [
       "<Figure size 576x432 with 3 Axes>"
      ]
     },
     "metadata": {
      "needs_background": "light"
     },
     "output_type": "display_data"
    }
   ],
   "source": [
    "a = VanillaRNN(10)\n",
    "a.set_memory_state(np.array([0,0,1,1,1,1,1,0,0,0,0,1,0,0,0,0,1,0,0,0,1,0,0,0,0,0,1,0,0,0,1,1,1,1,1,1,1,1,1,1,1,0,0,0,0,0,1,0,0,1,1,0,0,0,0,0,1,0,0,1,1,1,1,1,1,1,1,1,1,1,1,0,0,1,0,0,0,0,0,1,1,0,0,1,0,0,0,0,1,0,1,1,1,1,1,1,1,1,0,0]))\n",
    "a.set_memory_state(np.array([1,0,0,0,0,0,0,0,0,1,0,1,0,0,0,0,0,0,1,0,0,0,1,0,0,0,0,1,0,0,0,0,0,1,0,0,1,0,0,0,0,0,0,0,1,1,0,0,0,0,0,0,0,0,1,1,0,0,0,0,0,0,0,1,0,0,1,0,0,0,0,0,1,0,0,0,0,1,0,0,0,1,0,0,0,0,0,0,1,0,1,0,0,0,0,0,0,0,0,1]))\n",
    "a.set_memory_state(np.array([0,0,0,0,0,0,0,0,0,0,0,1,1,1,1,1,1,1,1,0,0,1,0,0,0,0,0,0,1,0,0,1,0,1,1,1,1,0,1,0,0,1,0,1,0,0,1,0,1,0,0,1,0,1,0,0,1,0,1,0,0,1,0,1,1,1,1,0,1,0,0,1,0,0,0,0,0,0,1,0,0,1,1,1,1,1,1,1,1,0,0,0,0,0,0,0,0,0,0,0]))\n",
    "a.hebbian_learning()\n",
    "a.print_memory_states()"
   ]
  },
  {
   "cell_type": "code",
   "execution_count": 8,
   "metadata": {},
   "outputs": [
    {
     "data": {
      "image/png": "[encoded data removed]",
      "text/plain": [
       "<Figure size 432x288 with 1 Axes>"
      ]
     },
     "metadata": {
      "needs_background": "light"
     },
     "output_type": "display_data"
    },
    {
     "name": "stdout",
     "output_type": "stream",
     "text": [
      "Convergence reached in 2 iterations\n"
     ]
    },
    {
     "data": {
      "image/png": "[encoded data removed]",
      "text/plain": [
       "<Figure size 432x288 with 1 Axes>"
      ]
     },
     "metadata": {
      "needs_background": "light"
     },
     "output_type": "display_data"
    }
   ],
   "source": [
    "# Teste de Memoria\n",
    "starting_state=np.array(\n",
    "[1,0,0,0,0,0,0,0,0,1\n",
    ",0,1,0,0,0,0,0,0,1,0\n",
    ",0,0,0,0,0,0,0,1,0,0\n",
    ",0,0,0,0,0,0,1,0,0,0\n",
    ",0,0,0,0,0,0,0,0,0,0\n",
    ",0,0,0,0,0,0,0,0,0,0\n",
    ",0,0,0,0,0,0,0,0,0,0\n",
    ",0,0,0,0,0,0,0,0,0,0\n",
    ",0,0,0,0,0,0,0,0,0,0\n",
    ",0,0,0,0,0,0,0,0,0,0])\n",
    "vector_square=starting_state.reshape(10,10)\n",
    "plt.imshow(vector_square,cmap='gray')\n",
    "plt.show()\n",
    "stt=a.recall(starting_state)\n",
    "vector_square=stt.reshape(10,10)\n",
    "plt.imshow(vector_square,cmap='gray')\n",
    "plt.show()"
   ]
  },
  {
   "cell_type": "code",
   "execution_count": 9,
   "metadata": {},
   "outputs": [
    {
     "data": {
      "image/png": "[encoded data removed]",
      "text/plain": [
       "<Figure size 432x288 with 1 Axes>"
      ]
     },
     "metadata": {
      "needs_background": "light"
     },
     "output_type": "display_data"
    },
    {
     "name": "stdout",
     "output_type": "stream",
     "text": [
      "Convergence reached in 2 iterations\n"
     ]
    },
    {
     "data": {
      "image/png": "[encoded data removed]",
      "text/plain": [
       "<Figure size 432x288 with 1 Axes>"
      ]
     },
     "metadata": {
      "needs_background": "light"
     },
     "output_type": "display_data"
    }
   ],
   "source": [
    "# Teste de Memoria\n",
    "starting_state=np.array(\n",
    "[0,0,1,0,0,0,0,0,0,1\n",
    ",0,1,0,0,0,0,0,0,1,0\n",
    ",1,0,0,0,0,0,0,1,0,0\n",
    ",1,1,1,1,1,1,1,0,0,0\n",
    ",0,0,0,0,0,0,0,0,0,0\n",
    ",0,0,0,0,0,0,0,0,0,0\n",
    ",0,0,0,0,0,0,0,0,0,0\n",
    ",0,0,0,0,0,0,0,0,0,0\n",
    ",0,0,0,0,0,0,0,0,0,0\n",
    ",0,0,0,0,0,0,0,0,0,0])\n",
    "vector_square=starting_state.reshape(10,10)\n",
    "plt.imshow(vector_square,cmap='gray')\n",
    "plt.show()\n",
    "stt=a.recall(starting_state)\n",
    "vector_square=stt.reshape(10,10)\n",
    "plt.imshow(vector_square,cmap='gray')\n",
    "plt.show()"
   ]
  },
  {
   "cell_type": "code",
   "execution_count": 10,
   "metadata": {},
   "outputs": [
    {
     "data": {
      "image/png": "[encoded data removed]",
      "text/plain": [
       "<Figure size 432x288 with 1 Axes>"
      ]
     },
     "metadata": {
      "needs_background": "light"
     },
     "output_type": "display_data"
    },
    {
     "name": "stdout",
     "output_type": "stream",
     "text": [
      "Convergence reached in 3 iterations\n"
     ]
    },
    {
     "data": {
      "image/png": "[encoded data removed]",
      "text/plain": [
       "<Figure size 432x288 with 1 Axes>"
      ]
     },
     "metadata": {
      "needs_background": "light"
     },
     "output_type": "display_data"
    }
   ],
   "source": [
    "# Teste de Memoria\n",
    "starting_state=np.array(\n",
    "[0,0,1,0,0,0,0,0,0,1\n",
    ",0,1,0,0,0,0,0,0,1,0\n",
    ",1,0,0,0,0,0,0,1,0,0\n",
    ",1,1,1,1,1,1,1,0,0,0\n",
    ",0,0,0,0,0,1,0,0,0,0\n",
    ",0,0,0,0,1,0,0,0,0,0\n",
    ",0,0,0,1,0,0,0,0,0,0\n",
    ",0,0,1,0,0,0,0,0,0,0\n",
    ",0,1,0,0,0,0,0,0,0,0\n",
    ",0,0,0,0,0,0,0,0,0,0])\n",
    "vector_square=starting_state.reshape(10,10)\n",
    "plt.imshow(vector_square,cmap='gray')\n",
    "plt.show()\n",
    "stt=a.recall(starting_state)\n",
    "vector_square=stt.reshape(10,10)\n",
    "plt.imshow(vector_square,cmap='gray')\n",
    "plt.show()"
   ]
  },
  {
   "cell_type": "markdown",
   "metadata": {},
   "source": [
    "## Understasnding LLMs"
   ]
  },
  {
   "cell_type": "markdown",
   "metadata": {},
   "source": [
    "### Tokenizers"
   ]
  },
  {
   "cell_type": "code",
   "execution_count": null,
   "metadata": {},
   "outputs": [
    {
     "data": {
      "text/plain": [
       "'Como representante de seguro, você pode assumir a obrigação de promover, ofertar ou distribuir produtos complementares relacionados ao seguro, desde que não haja vínculos de dependência e que cumpra todas as disposições aplicáveis para atuação como representante de seguros, conforme previsto nas normativas da SUSEP. Portanto, a venda de software que só funciona com seguro pode ser possível, desde que esteja em conformidade com as regulamentações vigentes.'"
      ]
     },
     "metadata": {},
     "output_type": "display_data"
    }
   ],
   "source": [
    "@tool\n",
    "def brick_cg_helper(question):\n",
    "    \"\"\"This function queries the Brick Seguros documents with a given question to answer insurance related questions related to Brick Seguros.\"\"\"\n",
    "    try:\n",
    "        \n",
    "        prompt = ChatPromptTemplate.from_messages(\n",
    "            [\n",
    "                (\"system\", \"\"\"\n",
    "                    SUSEP is the brazilian regulator for insurance.\n",
    "                    You are a specialyzed insurance agent, and excel at understanding SUSEP documents.\n",
    "                    You are very good at finding information in SUSEP documents.\n",
    "                    You are very good at generating the best response to insurance related topics.\n",
    "                    {context}\n",
    "                 \"\"\"),\n",
    "                (\"user\", \"\"\"\n",
    "                Answer this question as best as you can: {question}\n",
    "            \"\"\")]\n",
    "        )\n",
    "\n",
    "        chain = (\n",
    "            {\"context\": itemgetter(\"question\") | brick_susep_retriever,\"question\": itemgetter(\"question\")} \n",
    "            | prompt \n",
    "            | light_model \n",
    "        )\n",
    "\n",
    "        res = chain.invoke({\"question\": question})\n",
    "\n",
    "        return res.content\n",
    "        \n",
    "    except Exception as error:\n",
    "        return {\"error\": str(error)}\n",
    "brick_cg_helper('Eu sou representante de seguro, posso vender software que só funciona com seguro?')"
   ]
  },
  {
   "cell_type": "markdown",
   "metadata": {},
   "source": [
    "<img src=\"./assets/question-received.jpeg\" alt=\"drawing\" style=\"width:1000px;\"/>\n"
   ]
  },
  {
   "cell_type": "markdown",
   "metadata": {},
   "source": [
    "<img src=\"./assets/tokenizer-schema.jpeg\" alt=\"drawing\" style=\"width:800px;\"/>\n"
   ]
  },
  {
   "cell_type": "markdown",
   "metadata": {},
   "source": [
    "### Embedding Space"
   ]
  },
  {
   "cell_type": "markdown",
   "metadata": {},
   "source": [
    "<img src=\"./assets/ES1.png\" alt=\"drawing\" style=\"width:800px;\"/>\n"
   ]
  },
  {
   "cell_type": "markdown",
   "metadata": {},
   "source": [
    "<img src=\"./assets/ES2.png\" alt=\"drawing\" style=\"width:800px;\"/>"
   ]
  },
  {
   "cell_type": "markdown",
   "metadata": {},
   "source": [
    "### Attention Mechanism"
   ]
  },
  {
   "cell_type": "markdown",
   "metadata": {},
   "source": [
    "<img src=\"./assets/llm-schema.jpeg\" alt=\"drawing\" style=\"width:1000px;\"/>"
   ]
  },
  {
   "cell_type": "markdown",
   "metadata": {},
   "source": [
    "<img src=\"./assets/Attention.png\" alt=\"drawing\" style=\"width:1000px;\"/>"
   ]
  },
  {
   "cell_type": "markdown",
   "metadata": {},
   "source": [
    "## Agent"
   ]
  },
  {
   "cell_type": "markdown",
   "metadata": {},
   "source": [
    "<img src=\"./assets/agent-tools.jpeg\" alt=\"drawing\" style=\"width:1000px;\"/>\n"
   ]
  },
  {
   "cell_type": "markdown",
   "metadata": {},
   "source": [
    "# Setup"
   ]
  },
  {
   "cell_type": "markdown",
   "metadata": {},
   "source": [
    "Loading ENV"
   ]
  },
  {
   "cell_type": "code",
   "execution_count": 43,
   "metadata": {},
   "outputs": [],
   "source": [
    "## Loading the environment\n",
    "import os\n",
    "from operator import itemgetter\n",
    "from bs4 import BeautifulSoup\n",
    "import requests\n",
    "from PyPDF2 import PdfReader\n",
    "import io\n",
    "from tqdm import tqdm\n",
    "import uuid\n",
    "import os\n",
    "from langchain_core.documents import Document\n",
    "from langchain_core.output_parsers import StrOutputParser\n",
    "from langchain_core.prompts import ChatPromptTemplate\n",
    "from langchain_openai import ChatOpenAI\n",
    "from langchain.storage import InMemoryByteStore\n",
    "from langchain_openai import OpenAIEmbeddings\n",
    "from langchain_community.vectorstores import Chroma\n",
    "from langchain.retrievers.multi_vector import MultiVectorRetriever\n",
    "from langchain_text_splitters import RecursiveCharacterTextSplitter\n",
    "import json\n",
    "os.getenv('../.env')\n",
    "\n",
    "\n",
    "\n",
    "light_model = ChatOpenAI(\n",
    "    model=\"gpt-3.5-turbo\",\n",
    "    temperature=0,\n",
    "    verbose=True\n",
    "  )\n",
    "\n",
    "powerful_model = ChatOpenAI(\n",
    "    model=\"gpt-4-turbo-2024-04-09\",\n",
    "    temperature=0,\n",
    "    verbose=True\n",
    "  )\n"
   ]
  },
  {
   "cell_type": "markdown",
   "metadata": {},
   "source": [
    "# Data Extraction"
   ]
  },
  {
   "cell_type": "markdown",
   "metadata": {},
   "source": [
    "## Documentos Internos Brick (Normal Chunking)"
   ]
  },
  {
   "cell_type": "code",
   "execution_count": 45,
   "metadata": {},
   "outputs": [],
   "source": [
    "main_page=requests.get('https://brickseguros.com.br')\n",
    "soup = BeautifulSoup(main_page.content, 'lxml')\n",
    "text=soup.get_text()\n",
    "links=[]\n",
    "for link in soup.find_all('a', href=True):\n",
    "    if 'http' in link['href'] and 'brickseguros.com.br' in link['href'] and 'mailto' not in link['href'] and link['href']!='https://brickseguros.com.br' :\n",
    "        links.append(link['href'])\n",
    "links=list(set(links))\n",
    "\n",
    "for link in links:\n",
    "    page=requests.get(link)\n",
    "    soup = BeautifulSoup(page.content, 'lxml')\n",
    "    text+=soup.get_text()\n",
    "\n",
    "brickdocuments=text"
   ]
  },
  {
   "cell_type": "code",
   "execution_count": 46,
   "metadata": {},
   "outputs": [],
   "source": [
    "with open('documents/brick_bs_cg.pdf', 'rb') as file:\n",
    "    reader = PdfReader(file)\n",
    "    policy_conditions=''\n",
    "    for i in range(len(reader.pages)):\n",
    "        policy_conditions+=reader.pages[i].extract_text()\n"
   ]
  },
  {
   "cell_type": "markdown",
   "metadata": {},
   "source": [
    "## Circulares SUSEP (RAPTOR)"
   ]
  },
  {
   "cell_type": "markdown",
   "metadata": {},
   "source": [
    "### First Extraction"
   ]
  },
  {
   "cell_type": "code",
   "execution_count": null,
   "metadata": {},
   "outputs": [],
   "source": [
    "def get_susep_doc(url):\n",
    "    r=requests.get(url)\n",
    "    reader = PdfReader(io.BytesIO(r.content))\n",
    "    out_str=''\n",
    "    for i in range(len(reader.pages)):\n",
    "        out_str+=reader.pages[i].extract_text()\n",
    "    return out_str"
   ]
  },
  {
   "cell_type": "code",
   "execution_count": null,
   "metadata": {},
   "outputs": [],
   "source": [
    "def get_gov_doc(url):\n",
    "    r=requests.get(url)\n",
    "    # Parse the HTML content using BeautifulSoup\n",
    "    soup = BeautifulSoup(r.text, 'html.parser')\n",
    "\n",
    "    # Find the div with class 'texto-dou'\n",
    "    target_div = soup.find('div', class_='texto-dou')\n",
    "\n",
    "    if target_div:\n",
    "        # Print the entire text content of the found div, including its children\n",
    "        return target_div.get_text()\n",
    "    else:\n",
    "        print(\"No div with class 'texto-dou' found\")"
   ]
  },
  {
   "cell_type": "code",
   "execution_count": null,
   "metadata": {},
   "outputs": [],
   "source": [
    "docs=[]\n",
    "links_susep=[]\n",
    "links_gov=[]\n",
    "with open('documents/susep_links.txt') as f:\n",
    "    for line in f:\n",
    "        if line.startswith('https://www2.susep.gov.br'):\n",
    "            links_susep.append(line.strip())\n",
    "        else:\n",
    "            links_gov.append(line.strip())\n"
   ]
  },
  {
   "cell_type": "code",
   "execution_count": 241,
   "metadata": {},
   "outputs": [
    {
     "name": "stderr",
     "output_type": "stream",
     "text": [
      "  5%|▌         | 1/20 [00:01<00:23,  1.23s/it]"
     ]
    },
    {
     "name": "stdout",
     "output_type": "stream",
     "text": [
      "Error on https://www2.susep.gov.br/safe/scripts/bnweb/bnmapi.exe?router=upload/27501\n"
     ]
    },
    {
     "name": "stderr",
     "output_type": "stream",
     "text": [
      " 10%|█         | 2/20 [00:03<00:28,  1.58s/it]"
     ]
    },
    {
     "name": "stderr",
     "output_type": "stream",
     "text": [
      " 50%|█████     | 10/20 [00:17<00:17,  1.75s/it]"
     ]
    },
    {
     "name": "stdout",
     "output_type": "stream",
     "text": [
      "Error on https://www2.susep.gov.br/safe/scripts/bnweb/bnmapi.exe?router=upload/26763\n"
     ]
    },
    {
     "name": "stderr",
     "output_type": "stream",
     "text": [
      " 60%|██████    | 12/20 [00:20<00:11,  1.42s/it]"
     ]
    },
    {
     "name": "stdout",
     "output_type": "stream",
     "text": [
      "Error on https://www2.susep.gov.br/safe/scripts/bnweb/bnmapi.exe?router=upload/26431\n"
     ]
    },
    {
     "name": "stderr",
     "output_type": "stream",
     "text": [
      " 80%|████████  | 16/20 [00:25<00:05,  1.25s/it]"
     ]
    },
    {
     "name": "stdout",
     "output_type": "stream",
     "text": [
      "Error on https://www2.susep.gov.br/safe/bnportal/internet/pt-BR/search?exp=453%2Fnumero%20%22RESOLUCAO%20CNSP%22%2Fdis\n"
     ]
    },
    {
     "name": "stderr",
     "output_type": "stream",
     "text": [
      " 95%|█████████▌| 19/20 [00:30<00:01,  1.53s/it]"
     ]
    }
   ],
   "source": [
    "for item in tqdm(links_susep):\n",
    "    try:\n",
    "        docs.append(get_susep_doc(item))\n",
    "    except:\n",
    "        print('Error on',item)\n",
    "for item in tqdm(links_gov):\n",
    "    try:\n",
    "        docs.append(get_gov_doc(item))\n",
    "    except:\n",
    "        print('Error on',item)"
   ]
  },
  {
   "cell_type": "code",
   "execution_count": null,
   "metadata": {},
   "outputs": [],
   "source": [
    "for index,item in enumerate(docs):\n",
    "    with open(f'documents/raw_susep/{index}.txt','w') as f:\n",
    "        f.write(item)"
   ]
  },
  {
   "cell_type": "markdown",
   "metadata": {},
   "source": [
    "### Extraction to index"
   ]
  },
  {
   "cell_type": "code",
   "execution_count": 82,
   "metadata": {},
   "outputs": [],
   "source": [
    "susep_docs=[]\n",
    "for file in os.listdir('documents/raw_susep'):\n",
    "    with open(f'documents/raw_susep/{file}','r') as f:\n",
    "        susep_docs.append(f.read())"
   ]
  },
  {
   "cell_type": "markdown",
   "metadata": {},
   "source": [
    "## Código Civil (Multi Representation)"
   ]
  },
  {
   "cell_type": "code",
   "execution_count": 4,
   "metadata": {},
   "outputs": [],
   "source": [
    "with open('documents/codcivil.html','r',encoding='utf-8') as f:\n",
    "    soup = BeautifulSoup(f.read(), 'lxml')\n",
    "#get all elements inside mais soup\n",
    "elements = soup.find_all(recursive=False)[0].find_all(recursive=False)[0].find_all(recursive=False)\n",
    "textelements=[x.get_text().strip() for x in elements]\n"
   ]
  },
  {
   "cell_type": "code",
   "execution_count": 5,
   "metadata": {},
   "outputs": [],
   "source": [
    "livro=''\n",
    "titulo=''\n",
    "capitulo=''\n",
    "secao=''\n",
    "subsecao=''\n",
    "outstr=''\n",
    "lastwastext=False\n",
    "codigo_civill=[]\n",
    "for item in textelements:\n",
    "    if item.startswith('LIVRO'):\n",
    "        if lastwastext:\n",
    "            codigo_civill.append(outstr)\n",
    "        livro=item\n",
    "        titulo=''\n",
    "        capitulo=''\n",
    "        secao=''\n",
    "        subsecao=''\n",
    "        outstr=''\n",
    "        lastwastext=False\n",
    "    elif item.startswith('TÍTULO'):\n",
    "        if lastwastext:\n",
    "            codigo_civill.append(outstr)\n",
    "        titulo=item\n",
    "        capitulo=''\n",
    "        secao=''\n",
    "        subsecao=''\n",
    "        outstr=''\n",
    "        lastwastext=False\n",
    "    elif item.startswith('CAPÍTULO'):\n",
    "        if lastwastext:\n",
    "            codigo_civill.append(outstr)\n",
    "        capitulo=item\n",
    "        secao=''\n",
    "        subsecao=''\n",
    "        outstr=''\n",
    "        lastwastext=False\n",
    "    elif item.startswith('Seção'):\n",
    "        if lastwastext:\n",
    "            codigo_civill.append(outstr)\n",
    "        secao=item\n",
    "        subsecao=''\n",
    "        outstr=''\n",
    "        lastwastext=False\n",
    "    elif item.startswith('SUBSEÇÃO'):\n",
    "        if lastwastext:\n",
    "            codigo_civill.append(outstr)\n",
    "        subsecao=item\n",
    "        outstr=''\n",
    "        lastwastext=False\n",
    "    else:\n",
    "        if not lastwastext:\n",
    "            outstr+=f'{livro} - {titulo} - {capitulo} - {secao} - {subsecao}\\n'\n",
    "        lastwastext=True\n",
    "        outstr += item+'\\n'\n"
   ]
  },
  {
   "cell_type": "markdown",
   "metadata": {},
   "source": [
    "# Indexing"
   ]
  },
  {
   "cell_type": "markdown",
   "metadata": {},
   "source": [
    "## Brick"
   ]
  },
  {
   "cell_type": "code",
   "execution_count": 87,
   "metadata": {},
   "outputs": [
    {
     "name": "stdout",
     "output_type": "stream",
     "text": [
      "71\n"
     ]
    }
   ],
   "source": [
    "\n",
    "text_splitter = RecursiveCharacterTextSplitter(\n",
    "    chunk_size=500, \n",
    "    chunk_overlap=50, \n",
    "    separators=[\"#######\", \"\\n\", \"\\r\\n\", \"\\r\"],\n",
    ")\n",
    "\n",
    "texts = text_splitter.split_text(brickdocuments)\n",
    "documents = text_splitter.create_documents(texts)\n",
    "print(len(documents))\n",
    "db = Chroma.from_documents(documents, OpenAIEmbeddings(\n",
    "),collection_name='brick_general')\n",
    "\n",
    "brick_general_retriever = db.as_retriever(collection_name='brick_general')"
   ]
  },
  {
   "cell_type": "code",
   "execution_count": 67,
   "metadata": {},
   "outputs": [
    {
     "name": "stdout",
     "output_type": "stream",
     "text": [
      "320\n"
     ]
    }
   ],
   "source": [
    "\n",
    "text_splitter = RecursiveCharacterTextSplitter(\n",
    "    chunk_size=500, \n",
    "    chunk_overlap=50, \n",
    "    separators=[\"#######\", \"\\n\", \"\\r\\n\", \"\\r\"],\n",
    ")\n",
    "\n",
    "texts = text_splitter.split_text(policy_conditions)\n",
    "documents = text_splitter.create_documents(texts)\n",
    "print(len(documents))\n",
    "db2 = Chroma.from_documents(documents, OpenAIEmbeddings(\n",
    "),collection_name='insurance_brick')\n",
    "\n",
    "brick_insurance_retriever = db2.as_retriever(collection_name='insurance_brick')"
   ]
  },
  {
   "cell_type": "markdown",
   "metadata": {},
   "source": [
    "## SUSEP"
   ]
  },
  {
   "cell_type": "code",
   "execution_count": 89,
   "metadata": {},
   "outputs": [
    {
     "name": "stdout",
     "output_type": "stream",
     "text": [
      "2125\n"
     ]
    }
   ],
   "source": [
    "texts='#####################################'.join(susep_docs)\n",
    "text_splitter = RecursiveCharacterTextSplitter(\n",
    "    chunk_size=500, \n",
    "    chunk_overlap=50, \n",
    "    separators=[\"#######\", \"\\n\", \"\\r\\n\", \"\\r\"],\n",
    ")\n",
    "\n",
    "texts = text_splitter.split_text(texts)\n",
    "documents = text_splitter.create_documents(texts)\n",
    "print(len(documents))\n",
    "db = Chroma.from_documents(documents, OpenAIEmbeddings(\n",
    "),collection_name='susep')\n",
    "\n",
    "brick_susep_retriever = db.as_retriever(collection_name='susep')"
   ]
  },
  {
   "cell_type": "markdown",
   "metadata": {},
   "source": [
    "## Código civil"
   ]
  },
  {
   "cell_type": "code",
   "execution_count": 9,
   "metadata": {},
   "outputs": [],
   "source": [
    "chain = (\n",
    "    {\"doc\": lambda x: x.page_content}\n",
    "    | ChatPromptTemplate.from_template(\"Summarize os seguintes documentos::\\n\\n{doc}\")\n",
    "    | light_model\n",
    "    | StrOutputParser()\n",
    ")\n",
    "docs=[Document(x) for x in codigo_civill]\n",
    "summaries = chain.batch(docs, {\"max_concurrency\": 5})\n",
    "\n",
    "with open('cod_civil_summaries.json','w') as f:\n",
    "    json.dump(summaries, f)"
   ]
  },
  {
   "cell_type": "code",
   "execution_count": 26,
   "metadata": {},
   "outputs": [],
   "source": [
    "from langchain.storage import InMemoryByteStore\n",
    "from langchain_openai import OpenAIEmbeddings\n",
    "from langchain_community.vectorstores import Chroma\n",
    "from langchain.retrievers.multi_vector import MultiVectorRetriever\n",
    "\n",
    "# The vectorstore to use to index the child chunks\n",
    "vectorstore_cc = Chroma(collection_name=\"summaries\",\n",
    "                     embedding_function=OpenAIEmbeddings())\n",
    "\n",
    "# The storage layer for the parent documents\n",
    "store = InMemoryByteStore()\n",
    "id_key = \"doc_id\"\n",
    "\n",
    "# The retriever\n",
    "retriever_cc = MultiVectorRetriever(\n",
    "    vectorstore=vectorstore_cc,\n",
    "    byte_store=store,\n",
    "    id_key=id_key,\n",
    "    search_kwargs={\"k\": 5}\n",
    "\n",
    ")\n",
    "doc_ids = [str(uuid.uuid4()) for _ in docs]\n",
    "\n",
    "# Docs linked to summaries\n",
    "summary_docs = [\n",
    "    Document(page_content=s, metadata={id_key: doc_ids[i]})\n",
    "    for i, s in enumerate(summaries)\n",
    "]\n",
    "\n",
    "# Add\n",
    "retriever_cc.vectorstore.add_documents(summary_docs)\n",
    "retriever_cc.docstore.mset(list(zip(doc_ids, docs)))"
   ]
  },
  {
   "cell_type": "markdown",
   "metadata": {},
   "source": [
    "# Tools"
   ]
  },
  {
   "cell_type": "markdown",
   "metadata": {},
   "source": [
    "### File Reading"
   ]
  },
  {
   "cell_type": "markdown",
   "metadata": {},
   "source": [
    "### Chart Plotting"
   ]
  },
  {
   "cell_type": "markdown",
   "metadata": {},
   "source": [
    "### Database Query"
   ]
  },
  {
   "cell_type": "markdown",
   "metadata": {},
   "source": [
    "### Insurance Questions"
   ]
  },
  {
   "cell_type": "markdown",
   "metadata": {},
   "source": [
    "### Road Traffic Legislation Search"
   ]
  },
  {
   "cell_type": "markdown",
   "metadata": {},
   "source": [
    "### Quote Policy"
   ]
  },
  {
   "cell_type": "markdown",
   "metadata": {},
   "source": [
    "### Issue Policy"
   ]
  },
  {
   "cell_type": "markdown",
   "metadata": {},
   "source": [
    "### Open Claim"
   ]
  },
  {
   "cell_type": "markdown",
   "metadata": {},
   "source": [
    "# Initializing the Agent"
   ]
  },
  {
   "cell_type": "markdown",
   "metadata": {},
   "source": [
    "## Exec"
   ]
  },
  {
   "cell_type": "markdown",
   "metadata": {},
   "source": [
    "## References\n"
   ]
  },
  {
   "cell_type": "markdown",
   "metadata": {},
   "source": [
    "\n",
    "Attention is all you need - https://arxiv.org/pdf/1706.03762.pdf\n"
   ]
  }
 ],
 "metadata": {
  "kernelspec": {
   "display_name": "Python 3",
   "language": "python",
   "name": "python3"
  },
  "language_info": {
   "codemirror_mode": {
    "name": "ipython",
    "version": 3
   },
   "file_extension": ".py",
   "mimetype": "text/x-python",
   "name": "python",
   "nbconvert_exporter": "python",
   "pygments_lexer": "ipython3",
   "version": "3.9.7"
  }
 },
 "nbformat": 4,
 "nbformat_minor": 2
}
